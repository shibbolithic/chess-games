{
  "cells": [
    {
      "cell_type": "markdown",
      "metadata": {
        "id": "view-in-github",
        "colab_type": "text"
      },
      "source": [
        "<a href=\"https://colab.research.google.com/github/shibbolithic/chess-games/blob/main/chess_analysis.ipynb\" target=\"_parent\"><img src=\"https://colab.research.google.com/assets/colab-badge.svg\" alt=\"Open In Colab\"/></a>"
      ]
    },
    {
      "cell_type": "markdown",
      "metadata": {
        "id": "69icgc-O1Lwh"
      },
      "source": [
        "# Chess-Analysis\n",
        "\n",
        "This is an exploratory data analysis of a dataset of chess games played on lichess.org in the month of july of 2016 taken from kaggle. This data analysis contains 3 main sections having various sub-sections wherein topics ranging from famous openings to termination of a game have been explored."
      ]
    },
    {
      "cell_type": "markdown",
      "metadata": {
        "id": "c48A1OT32lPY"
      },
      "source": [
        "# Exploratory Data Analysis-Chess Games"
      ]
    },
    {
      "cell_type": "code",
      "execution_count": null,
      "metadata": {
        "id": "rD-E4Epb1Lwq"
      },
      "outputs": [],
      "source": [
        "pip install opendatasets --upgrade --quiet"
      ]
    },
    {
      "cell_type": "markdown",
      "metadata": {
        "id": "kgbhcNcs2h-3"
      },
      "source": [
        "## Downloading Data"
      ]
    },
    {
      "cell_type": "code",
      "execution_count": null,
      "metadata": {
        "colab": {
          "base_uri": "https://localhost:8080/"
        },
        "id": "mFDx6Cxy1Rni",
        "outputId": "fd4b9157-435e-48fe-d778-bfcd7b624c8d"
      },
      "outputs": [
        {
          "output_type": "stream",
          "name": "stdout",
          "text": [
            "Please provide your Kaggle credentials to download this dataset. Learn more: http://bit.ly/kaggle-creds\n",
            "Your Kaggle username: shibbolithic\n",
            "Your Kaggle Key: ··········\n",
            "Downloading chess-games.zip to ./chess-games\n"
          ]
        },
        {
          "output_type": "stream",
          "name": "stderr",
          "text": [
            "100%|██████████| 1.45G/1.45G [00:11<00:00, 131MB/s]\n"
          ]
        },
        {
          "output_type": "stream",
          "name": "stdout",
          "text": [
            "\n"
          ]
        }
      ],
      "source": [
        "import  opendatasets as od\n",
        "download_url = 'https://www.kaggle.com/datasets/arevel/chess-games'\n",
        "od.download(download_url)"
      ]
    },
    {
      "cell_type": "code",
      "execution_count": null,
      "metadata": {
        "id": "PD4zqAf14UoQ"
      },
      "outputs": [],
      "source": [
        "filename = '/content/chess-games/chess_games.csv'"
      ]
    },
    {
      "cell_type": "markdown",
      "source": [
        "Here, i have downloaded the data from a dataset on kaggle. It was done by making an account on kaggle and generating an API key which allowed me to access the dataframe on google colab."
      ],
      "metadata": {
        "id": "rp-8QhKQYHpA"
      }
    },
    {
      "cell_type": "code",
      "execution_count": null,
      "metadata": {
        "id": "CnFv-DNM1RWn"
      },
      "outputs": [],
      "source": [
        "import pandas as pd\n",
        "import numpy as np\n",
        "import matplotlib.pyplot as plt"
      ]
    },
    {
      "cell_type": "markdown",
      "source": [
        "1. Pandas: officially stands for Python Data Analysis Library. It is used to read, write, manipulate and analyze the data.\n",
        "\n",
        "2. NumPy: It helps to simplify and summarize large amounts of data in a sensible manner.\n",
        "\n",
        "3. Matplotlib: It is a comprehensive library for creating static, animated, and interactive visualizations in Python"
      ],
      "metadata": {
        "id": "Qb3JFJ8D1B-Z"
      }
    },
    {
      "cell_type": "markdown",
      "metadata": {
        "id": "CBRvneSE3PVi"
      },
      "source": [
        "##Data preperation and cleaning\n",
        "\n",
        "Data cleaning is the process of fixing or removing incorrect, corrupted, incorrectly formatted, duplicate, or incomplete data within a dataset.\n",
        "\n",
        "TO-DO\n",
        "1. look at some information about the file\n",
        "2. fix any missing data or incorrect values\n",
        "3. make the dataset more readable"
      ]
    },
    {
      "cell_type": "code",
      "execution_count": null,
      "metadata": {
        "id": "g-d14DBuBfBl"
      },
      "outputs": [],
      "source": [
        "df = pd.read_csv(filename)"
      ]
    },
    {
      "cell_type": "markdown",
      "source": [
        "read_csv() function imports a CSV file to DataFrame format."
      ],
      "metadata": {
        "id": "-vZwxq9G95WI"
      }
    },
    {
      "cell_type": "markdown",
      "metadata": {
        "id": "xTCaPGGHJC_G"
      },
      "source": [
        "###looking at the data"
      ]
    },
    {
      "cell_type": "code",
      "execution_count": null,
      "metadata": {
        "colab": {
          "base_uri": "https://localhost:8080/",
          "height": 1000
        },
        "id": "GCe56rLkDP-9",
        "outputId": "92c1028c-c7b5-4a28-c2a4-2a6946910bd2"
      },
      "outputs": [
        {
          "output_type": "execute_result",
          "data": {
            "text/plain": [
              "                      Event                 White           Black Result  \\\n",
              "0                Classical                eisaaaa        HAMID449    1-0   \n",
              "1                    Blitz                 go4jas      Sergei1973    0-1   \n",
              "2         Blitz tournament        Evangelistaizac          kafune    1-0   \n",
              "3           Correspondence                 Jvayne        Wsjvayne    1-0   \n",
              "4         Blitz tournament                 kyoday       BrettDale    0-1   \n",
              "...                     ...                   ...             ...    ...   \n",
              "6256179              Blitz             GustavScar         WEBRIFF    1-0   \n",
              "6256180          Classical                 apgaro         Camposf    1-0   \n",
              "6256181             Bullet   matematico1234567890  cecile_creteil    0-1   \n",
              "6256182             Bullet            MagnusMinor          shegap    0-1   \n",
              "6256183          Classical              SocratAss          KOSMA7    0-1   \n",
              "\n",
              "            UTCDate   UTCTime  WhiteElo  BlackElo  WhiteRatingDiff  \\\n",
              "0        2016.06.30  22:00:01      1901      1896             11.0   \n",
              "1        2016.06.30  22:00:01      1641      1627            -11.0   \n",
              "2        2016.06.30  22:00:02      1647      1688             13.0   \n",
              "3        2016.06.30  22:00:02      1706      1317             27.0   \n",
              "4        2016.06.30  22:00:02      1945      1900            -14.0   \n",
              "...             ...       ...       ...       ...              ...   \n",
              "6256179  2016.07.31  21:59:56      1248      1303             13.0   \n",
              "6256180  2016.07.31  21:59:54      1328      1292             10.0   \n",
              "6256181  2016.07.31  21:59:53      1660      1658            -11.0   \n",
              "6256182  2016.07.31  21:59:57      1726      1776             -8.0   \n",
              "6256183  2016.07.31  21:59:54      1948      1992            -74.0   \n",
              "\n",
              "         BlackRatingDiff  ECO                                        Opening  \\\n",
              "0                  -11.0  D10                                   Slav Defense   \n",
              "1                   12.0  C20                      King's Pawn Opening: 2.b3   \n",
              "2                  -13.0  B01  Scandinavian Defense: Mieses-Kotroc Variation   \n",
              "3                  -25.0  A00                           Van't Kruijs Opening   \n",
              "4                   13.0  B90    Sicilian Defense: Najdorf, Lipnitsky Attack   \n",
              "...                  ...  ...                                            ...   \n",
              "6256179            -17.0  B54                               Sicilian Defense   \n",
              "6256180            -11.0  C40                          King's Knight Opening   \n",
              "6256181             11.0  B21           Sicilian Defense: Smith-Morra Gambit   \n",
              "6256182              9.0  A09                    Reti Opening: Reti Accepted   \n",
              "6256183              8.0  C00              Rat Defense: Small Center Defense   \n",
              "\n",
              "        TimeControl   Termination  \\\n",
              "0             300+5  Time forfeit   \n",
              "1             300+0        Normal   \n",
              "2             180+0  Time forfeit   \n",
              "3                 -        Normal   \n",
              "4             180+0  Time forfeit   \n",
              "...             ...           ...   \n",
              "6256179       180+3        Normal   \n",
              "6256180      1800+0        Normal   \n",
              "6256181       120+0        Normal   \n",
              "6256182        60+0        Normal   \n",
              "6256183       480+0        Normal   \n",
              "\n",
              "                                                        AN  \n",
              "0        1. d4 d5 2. c4 c6 3. e3 a6 4. Nf3 e5 5. cxd5 e...  \n",
              "1        1. e4 e5 2. b3 Nf6 3. Bb2 Nc6 4. Nf3 d6 5. d3 ...  \n",
              "2        1. e4 d5 2. exd5 Qxd5 3. Nf3 Bg4 4. Be2 Nf6 5....  \n",
              "3        1. e3 Nf6 2. Bc4 d6 3. e4 e6 4. Nf3 Nxe4 5. Nd...  \n",
              "4        1. e4 c5 2. Nf3 d6 3. d4 cxd4 4. Nxd4 Nf6 5. N...  \n",
              "...                                                    ...  \n",
              "6256179  1. e4 c5 2. Nf3 d6 3. d4 Qa5+ 4. Bd2 Qc7 5. Bc...  \n",
              "6256180  1. e4 e5 2. Nf3 h6 3. Nc3 d6 4. Bc4 Qf6 5. Nd5...  \n",
              "6256181  1. e4 { [%eval 0.22] } 1... c5 { [%eval 0.35] ...  \n",
              "6256182  1. Nf3 d5 2. c4 dxc4 3. Qa4+ c6 4. Qxc4 Nf6 5....  \n",
              "6256183  1. e4 e6 2. d4 d6 3. Nc3 c6 4. Nf3 Be7 5. Bc4 ...  \n",
              "\n",
              "[6256184 rows x 15 columns]"
            ],
            "text/html": [
              "\n",
              "  <div id=\"df-3ff3e992-60d2-4280-b2f3-be5d67e2ba64\">\n",
              "    <div class=\"colab-df-container\">\n",
              "      <div>\n",
              "<style scoped>\n",
              "    .dataframe tbody tr th:only-of-type {\n",
              "        vertical-align: middle;\n",
              "    }\n",
              "\n",
              "    .dataframe tbody tr th {\n",
              "        vertical-align: top;\n",
              "    }\n",
              "\n",
              "    .dataframe thead th {\n",
              "        text-align: right;\n",
              "    }\n",
              "</style>\n",
              "<table border=\"1\" class=\"dataframe\">\n",
              "  <thead>\n",
              "    <tr style=\"text-align: right;\">\n",
              "      <th></th>\n",
              "      <th>Event</th>\n",
              "      <th>White</th>\n",
              "      <th>Black</th>\n",
              "      <th>Result</th>\n",
              "      <th>UTCDate</th>\n",
              "      <th>UTCTime</th>\n",
              "      <th>WhiteElo</th>\n",
              "      <th>BlackElo</th>\n",
              "      <th>WhiteRatingDiff</th>\n",
              "      <th>BlackRatingDiff</th>\n",
              "      <th>ECO</th>\n",
              "      <th>Opening</th>\n",
              "      <th>TimeControl</th>\n",
              "      <th>Termination</th>\n",
              "      <th>AN</th>\n",
              "    </tr>\n",
              "  </thead>\n",
              "  <tbody>\n",
              "    <tr>\n",
              "      <th>0</th>\n",
              "      <td>Classical</td>\n",
              "      <td>eisaaaa</td>\n",
              "      <td>HAMID449</td>\n",
              "      <td>1-0</td>\n",
              "      <td>2016.06.30</td>\n",
              "      <td>22:00:01</td>\n",
              "      <td>1901</td>\n",
              "      <td>1896</td>\n",
              "      <td>11.0</td>\n",
              "      <td>-11.0</td>\n",
              "      <td>D10</td>\n",
              "      <td>Slav Defense</td>\n",
              "      <td>300+5</td>\n",
              "      <td>Time forfeit</td>\n",
              "      <td>1. d4 d5 2. c4 c6 3. e3 a6 4. Nf3 e5 5. cxd5 e...</td>\n",
              "    </tr>\n",
              "    <tr>\n",
              "      <th>1</th>\n",
              "      <td>Blitz</td>\n",
              "      <td>go4jas</td>\n",
              "      <td>Sergei1973</td>\n",
              "      <td>0-1</td>\n",
              "      <td>2016.06.30</td>\n",
              "      <td>22:00:01</td>\n",
              "      <td>1641</td>\n",
              "      <td>1627</td>\n",
              "      <td>-11.0</td>\n",
              "      <td>12.0</td>\n",
              "      <td>C20</td>\n",
              "      <td>King's Pawn Opening: 2.b3</td>\n",
              "      <td>300+0</td>\n",
              "      <td>Normal</td>\n",
              "      <td>1. e4 e5 2. b3 Nf6 3. Bb2 Nc6 4. Nf3 d6 5. d3 ...</td>\n",
              "    </tr>\n",
              "    <tr>\n",
              "      <th>2</th>\n",
              "      <td>Blitz tournament</td>\n",
              "      <td>Evangelistaizac</td>\n",
              "      <td>kafune</td>\n",
              "      <td>1-0</td>\n",
              "      <td>2016.06.30</td>\n",
              "      <td>22:00:02</td>\n",
              "      <td>1647</td>\n",
              "      <td>1688</td>\n",
              "      <td>13.0</td>\n",
              "      <td>-13.0</td>\n",
              "      <td>B01</td>\n",
              "      <td>Scandinavian Defense: Mieses-Kotroc Variation</td>\n",
              "      <td>180+0</td>\n",
              "      <td>Time forfeit</td>\n",
              "      <td>1. e4 d5 2. exd5 Qxd5 3. Nf3 Bg4 4. Be2 Nf6 5....</td>\n",
              "    </tr>\n",
              "    <tr>\n",
              "      <th>3</th>\n",
              "      <td>Correspondence</td>\n",
              "      <td>Jvayne</td>\n",
              "      <td>Wsjvayne</td>\n",
              "      <td>1-0</td>\n",
              "      <td>2016.06.30</td>\n",
              "      <td>22:00:02</td>\n",
              "      <td>1706</td>\n",
              "      <td>1317</td>\n",
              "      <td>27.0</td>\n",
              "      <td>-25.0</td>\n",
              "      <td>A00</td>\n",
              "      <td>Van't Kruijs Opening</td>\n",
              "      <td>-</td>\n",
              "      <td>Normal</td>\n",
              "      <td>1. e3 Nf6 2. Bc4 d6 3. e4 e6 4. Nf3 Nxe4 5. Nd...</td>\n",
              "    </tr>\n",
              "    <tr>\n",
              "      <th>4</th>\n",
              "      <td>Blitz tournament</td>\n",
              "      <td>kyoday</td>\n",
              "      <td>BrettDale</td>\n",
              "      <td>0-1</td>\n",
              "      <td>2016.06.30</td>\n",
              "      <td>22:00:02</td>\n",
              "      <td>1945</td>\n",
              "      <td>1900</td>\n",
              "      <td>-14.0</td>\n",
              "      <td>13.0</td>\n",
              "      <td>B90</td>\n",
              "      <td>Sicilian Defense: Najdorf, Lipnitsky Attack</td>\n",
              "      <td>180+0</td>\n",
              "      <td>Time forfeit</td>\n",
              "      <td>1. e4 c5 2. Nf3 d6 3. d4 cxd4 4. Nxd4 Nf6 5. N...</td>\n",
              "    </tr>\n",
              "    <tr>\n",
              "      <th>...</th>\n",
              "      <td>...</td>\n",
              "      <td>...</td>\n",
              "      <td>...</td>\n",
              "      <td>...</td>\n",
              "      <td>...</td>\n",
              "      <td>...</td>\n",
              "      <td>...</td>\n",
              "      <td>...</td>\n",
              "      <td>...</td>\n",
              "      <td>...</td>\n",
              "      <td>...</td>\n",
              "      <td>...</td>\n",
              "      <td>...</td>\n",
              "      <td>...</td>\n",
              "      <td>...</td>\n",
              "    </tr>\n",
              "    <tr>\n",
              "      <th>6256179</th>\n",
              "      <td>Blitz</td>\n",
              "      <td>GustavScar</td>\n",
              "      <td>WEBRIFF</td>\n",
              "      <td>1-0</td>\n",
              "      <td>2016.07.31</td>\n",
              "      <td>21:59:56</td>\n",
              "      <td>1248</td>\n",
              "      <td>1303</td>\n",
              "      <td>13.0</td>\n",
              "      <td>-17.0</td>\n",
              "      <td>B54</td>\n",
              "      <td>Sicilian Defense</td>\n",
              "      <td>180+3</td>\n",
              "      <td>Normal</td>\n",
              "      <td>1. e4 c5 2. Nf3 d6 3. d4 Qa5+ 4. Bd2 Qc7 5. Bc...</td>\n",
              "    </tr>\n",
              "    <tr>\n",
              "      <th>6256180</th>\n",
              "      <td>Classical</td>\n",
              "      <td>apgaro</td>\n",
              "      <td>Camposf</td>\n",
              "      <td>1-0</td>\n",
              "      <td>2016.07.31</td>\n",
              "      <td>21:59:54</td>\n",
              "      <td>1328</td>\n",
              "      <td>1292</td>\n",
              "      <td>10.0</td>\n",
              "      <td>-11.0</td>\n",
              "      <td>C40</td>\n",
              "      <td>King's Knight Opening</td>\n",
              "      <td>1800+0</td>\n",
              "      <td>Normal</td>\n",
              "      <td>1. e4 e5 2. Nf3 h6 3. Nc3 d6 4. Bc4 Qf6 5. Nd5...</td>\n",
              "    </tr>\n",
              "    <tr>\n",
              "      <th>6256181</th>\n",
              "      <td>Bullet</td>\n",
              "      <td>matematico1234567890</td>\n",
              "      <td>cecile_creteil</td>\n",
              "      <td>0-1</td>\n",
              "      <td>2016.07.31</td>\n",
              "      <td>21:59:53</td>\n",
              "      <td>1660</td>\n",
              "      <td>1658</td>\n",
              "      <td>-11.0</td>\n",
              "      <td>11.0</td>\n",
              "      <td>B21</td>\n",
              "      <td>Sicilian Defense: Smith-Morra Gambit</td>\n",
              "      <td>120+0</td>\n",
              "      <td>Normal</td>\n",
              "      <td>1. e4 { [%eval 0.22] } 1... c5 { [%eval 0.35] ...</td>\n",
              "    </tr>\n",
              "    <tr>\n",
              "      <th>6256182</th>\n",
              "      <td>Bullet</td>\n",
              "      <td>MagnusMinor</td>\n",
              "      <td>shegap</td>\n",
              "      <td>0-1</td>\n",
              "      <td>2016.07.31</td>\n",
              "      <td>21:59:57</td>\n",
              "      <td>1726</td>\n",
              "      <td>1776</td>\n",
              "      <td>-8.0</td>\n",
              "      <td>9.0</td>\n",
              "      <td>A09</td>\n",
              "      <td>Reti Opening: Reti Accepted</td>\n",
              "      <td>60+0</td>\n",
              "      <td>Normal</td>\n",
              "      <td>1. Nf3 d5 2. c4 dxc4 3. Qa4+ c6 4. Qxc4 Nf6 5....</td>\n",
              "    </tr>\n",
              "    <tr>\n",
              "      <th>6256183</th>\n",
              "      <td>Classical</td>\n",
              "      <td>SocratAss</td>\n",
              "      <td>KOSMA7</td>\n",
              "      <td>0-1</td>\n",
              "      <td>2016.07.31</td>\n",
              "      <td>21:59:54</td>\n",
              "      <td>1948</td>\n",
              "      <td>1992</td>\n",
              "      <td>-74.0</td>\n",
              "      <td>8.0</td>\n",
              "      <td>C00</td>\n",
              "      <td>Rat Defense: Small Center Defense</td>\n",
              "      <td>480+0</td>\n",
              "      <td>Normal</td>\n",
              "      <td>1. e4 e6 2. d4 d6 3. Nc3 c6 4. Nf3 Be7 5. Bc4 ...</td>\n",
              "    </tr>\n",
              "  </tbody>\n",
              "</table>\n",
              "<p>6256184 rows × 15 columns</p>\n",
              "</div>\n",
              "      <button class=\"colab-df-convert\" onclick=\"convertToInteractive('df-3ff3e992-60d2-4280-b2f3-be5d67e2ba64')\"\n",
              "              title=\"Convert this dataframe to an interactive table.\"\n",
              "              style=\"display:none;\">\n",
              "        \n",
              "  <svg xmlns=\"http://www.w3.org/2000/svg\" height=\"24px\"viewBox=\"0 0 24 24\"\n",
              "       width=\"24px\">\n",
              "    <path d=\"M0 0h24v24H0V0z\" fill=\"none\"/>\n",
              "    <path d=\"M18.56 5.44l.94 2.06.94-2.06 2.06-.94-2.06-.94-.94-2.06-.94 2.06-2.06.94zm-11 1L8.5 8.5l.94-2.06 2.06-.94-2.06-.94L8.5 2.5l-.94 2.06-2.06.94zm10 10l.94 2.06.94-2.06 2.06-.94-2.06-.94-.94-2.06-.94 2.06-2.06.94z\"/><path d=\"M17.41 7.96l-1.37-1.37c-.4-.4-.92-.59-1.43-.59-.52 0-1.04.2-1.43.59L10.3 9.45l-7.72 7.72c-.78.78-.78 2.05 0 2.83L4 21.41c.39.39.9.59 1.41.59.51 0 1.02-.2 1.41-.59l7.78-7.78 2.81-2.81c.8-.78.8-2.07 0-2.86zM5.41 20L4 18.59l7.72-7.72 1.47 1.35L5.41 20z\"/>\n",
              "  </svg>\n",
              "      </button>\n",
              "      \n",
              "  <style>\n",
              "    .colab-df-container {\n",
              "      display:flex;\n",
              "      flex-wrap:wrap;\n",
              "      gap: 12px;\n",
              "    }\n",
              "\n",
              "    .colab-df-convert {\n",
              "      background-color: #E8F0FE;\n",
              "      border: none;\n",
              "      border-radius: 50%;\n",
              "      cursor: pointer;\n",
              "      display: none;\n",
              "      fill: #1967D2;\n",
              "      height: 32px;\n",
              "      padding: 0 0 0 0;\n",
              "      width: 32px;\n",
              "    }\n",
              "\n",
              "    .colab-df-convert:hover {\n",
              "      background-color: #E2EBFA;\n",
              "      box-shadow: 0px 1px 2px rgba(60, 64, 67, 0.3), 0px 1px 3px 1px rgba(60, 64, 67, 0.15);\n",
              "      fill: #174EA6;\n",
              "    }\n",
              "\n",
              "    [theme=dark] .colab-df-convert {\n",
              "      background-color: #3B4455;\n",
              "      fill: #D2E3FC;\n",
              "    }\n",
              "\n",
              "    [theme=dark] .colab-df-convert:hover {\n",
              "      background-color: #434B5C;\n",
              "      box-shadow: 0px 1px 3px 1px rgba(0, 0, 0, 0.15);\n",
              "      filter: drop-shadow(0px 1px 2px rgba(0, 0, 0, 0.3));\n",
              "      fill: #FFFFFF;\n",
              "    }\n",
              "  </style>\n",
              "\n",
              "      <script>\n",
              "        const buttonEl =\n",
              "          document.querySelector('#df-3ff3e992-60d2-4280-b2f3-be5d67e2ba64 button.colab-df-convert');\n",
              "        buttonEl.style.display =\n",
              "          google.colab.kernel.accessAllowed ? 'block' : 'none';\n",
              "\n",
              "        async function convertToInteractive(key) {\n",
              "          const element = document.querySelector('#df-3ff3e992-60d2-4280-b2f3-be5d67e2ba64');\n",
              "          const dataTable =\n",
              "            await google.colab.kernel.invokeFunction('convertToInteractive',\n",
              "                                                     [key], {});\n",
              "          if (!dataTable) return;\n",
              "\n",
              "          const docLinkHtml = 'Like what you see? Visit the ' +\n",
              "            '<a target=\"_blank\" href=https://colab.research.google.com/notebooks/data_table.ipynb>data table notebook</a>'\n",
              "            + ' to learn more about interactive tables.';\n",
              "          element.innerHTML = '';\n",
              "          dataTable['output_type'] = 'display_data';\n",
              "          await google.colab.output.renderOutput(dataTable, element);\n",
              "          const docLink = document.createElement('div');\n",
              "          docLink.innerHTML = docLinkHtml;\n",
              "          element.appendChild(docLink);\n",
              "        }\n",
              "      </script>\n",
              "    </div>\n",
              "  </div>\n",
              "  "
            ]
          },
          "metadata": {},
          "execution_count": 6
        }
      ],
      "source": [
        "df"
      ]
    },
    {
      "cell_type": "code",
      "execution_count": null,
      "metadata": {
        "colab": {
          "base_uri": "https://localhost:8080/"
        },
        "id": "7iZeuHNCFcPf",
        "outputId": "c84ccc02-e2e9-404c-9634-76e7561422ff"
      },
      "outputs": [
        {
          "output_type": "execute_result",
          "data": {
            "text/plain": [
              "6256184"
            ]
          },
          "metadata": {},
          "execution_count": 7
        }
      ],
      "source": [
        "len(df)"
      ]
    },
    {
      "cell_type": "markdown",
      "source": [
        " The number of rows of pandas DataFrame can be obtained with the Python built-in function len()"
      ],
      "metadata": {
        "id": "T1Uz07V--TP0"
      }
    },
    {
      "cell_type": "code",
      "execution_count": null,
      "metadata": {
        "colab": {
          "base_uri": "https://localhost:8080/"
        },
        "id": "S_qdI97FFEUk",
        "outputId": "a86c5b8c-fcec-484a-9cda-48fb449fee19"
      },
      "outputs": [
        {
          "output_type": "execute_result",
          "data": {
            "text/plain": [
              "15"
            ]
          },
          "metadata": {},
          "execution_count": 8
        }
      ],
      "source": [
        "len(df.columns)"
      ]
    },
    {
      "cell_type": "markdown",
      "source": [
        "The number of columns of pandas DataFrame can be obtained with the Python built-in function len(file_name.columns)"
      ],
      "metadata": {
        "id": "U9rs0kcJ--vJ"
      }
    },
    {
      "cell_type": "code",
      "execution_count": null,
      "metadata": {
        "colab": {
          "base_uri": "https://localhost:8080/"
        },
        "id": "dVd3OCrRFIvZ",
        "outputId": "b955afbb-d0da-418d-ffb8-aa38de6062f1"
      },
      "outputs": [
        {
          "output_type": "execute_result",
          "data": {
            "text/plain": [
              "Index(['Event', 'White', 'Black', 'Result', 'UTCDate', 'UTCTime', 'WhiteElo',\n",
              "       'BlackElo', 'WhiteRatingDiff', 'BlackRatingDiff', 'ECO', 'Opening',\n",
              "       'TimeControl', 'Termination', 'AN'],\n",
              "      dtype='object')"
            ]
          },
          "metadata": {},
          "execution_count": 9
        }
      ],
      "source": [
        "df.columns"
      ]
    },
    {
      "cell_type": "markdown",
      "source": [
        "file_name.columns gives the header of all the columns in the dataset"
      ],
      "metadata": {
        "id": "sz6-BdDq_KPm"
      }
    },
    {
      "cell_type": "code",
      "execution_count": null,
      "metadata": {
        "colab": {
          "base_uri": "https://localhost:8080/"
        },
        "id": "MHEk5EpzFIm9",
        "outputId": "40e30c70-c5c8-4c34-db12-b2fced5c1a52"
      },
      "outputs": [
        {
          "output_type": "stream",
          "name": "stdout",
          "text": [
            "<class 'pandas.core.frame.DataFrame'>\n",
            "RangeIndex: 6256184 entries, 0 to 6256183\n",
            "Data columns (total 15 columns):\n",
            " #   Column           Dtype  \n",
            "---  ------           -----  \n",
            " 0   Event            object \n",
            " 1   White            object \n",
            " 2   Black            object \n",
            " 3   Result           object \n",
            " 4   UTCDate          object \n",
            " 5   UTCTime          object \n",
            " 6   WhiteElo         int64  \n",
            " 7   BlackElo         int64  \n",
            " 8   WhiteRatingDiff  float64\n",
            " 9   BlackRatingDiff  float64\n",
            " 10  ECO              object \n",
            " 11  Opening          object \n",
            " 12  TimeControl      object \n",
            " 13  Termination      object \n",
            " 14  AN               object \n",
            "dtypes: float64(2), int64(2), object(11)\n",
            "memory usage: 716.0+ MB\n"
          ]
        }
      ],
      "source": [
        "df.info()"
      ]
    },
    {
      "cell_type": "markdown",
      "source": [
        "The info() method prints information about the DataFrame. The information contains the number of columns, column labels, column data types, memory usage, range index, and the number of cells in each column"
      ],
      "metadata": {
        "id": "yAcBQZk6AApG"
      }
    },
    {
      "cell_type": "code",
      "execution_count": null,
      "metadata": {
        "colab": {
          "base_uri": "https://localhost:8080/",
          "height": 300
        },
        "id": "KbTo8tvoFWef",
        "outputId": "f1a66059-ea25-4ac4-c002-b2bdeb068d93"
      },
      "outputs": [
        {
          "output_type": "execute_result",
          "data": {
            "text/plain": [
              "           WhiteElo      BlackElo  WhiteRatingDiff  BlackRatingDiff\n",
              "count  6.256184e+06  6.256184e+06     6.251516e+06     6.251516e+06\n",
              "mean   1.741945e+03  1.740390e+03     5.802621e-01    -3.676732e-01\n",
              "std    2.657171e+02  2.668938e+02     2.285186e+01     2.182012e+01\n",
              "min    7.370000e+02  7.280000e+02    -5.950000e+02    -6.530000e+02\n",
              "25%    1.559000e+03  1.557000e+03    -9.000000e+00    -1.000000e+01\n",
              "50%    1.740000e+03  1.739000e+03     1.000000e+00    -1.000000e+00\n",
              "75%    1.919000e+03  1.919000e+03     1.000000e+01     9.000000e+00\n",
              "max    3.110000e+03  3.108000e+03     6.730000e+02     6.640000e+02"
            ],
            "text/html": [
              "\n",
              "  <div id=\"df-bc207401-78c4-4387-bd8b-3de00684a96c\">\n",
              "    <div class=\"colab-df-container\">\n",
              "      <div>\n",
              "<style scoped>\n",
              "    .dataframe tbody tr th:only-of-type {\n",
              "        vertical-align: middle;\n",
              "    }\n",
              "\n",
              "    .dataframe tbody tr th {\n",
              "        vertical-align: top;\n",
              "    }\n",
              "\n",
              "    .dataframe thead th {\n",
              "        text-align: right;\n",
              "    }\n",
              "</style>\n",
              "<table border=\"1\" class=\"dataframe\">\n",
              "  <thead>\n",
              "    <tr style=\"text-align: right;\">\n",
              "      <th></th>\n",
              "      <th>WhiteElo</th>\n",
              "      <th>BlackElo</th>\n",
              "      <th>WhiteRatingDiff</th>\n",
              "      <th>BlackRatingDiff</th>\n",
              "    </tr>\n",
              "  </thead>\n",
              "  <tbody>\n",
              "    <tr>\n",
              "      <th>count</th>\n",
              "      <td>6.256184e+06</td>\n",
              "      <td>6.256184e+06</td>\n",
              "      <td>6.251516e+06</td>\n",
              "      <td>6.251516e+06</td>\n",
              "    </tr>\n",
              "    <tr>\n",
              "      <th>mean</th>\n",
              "      <td>1.741945e+03</td>\n",
              "      <td>1.740390e+03</td>\n",
              "      <td>5.802621e-01</td>\n",
              "      <td>-3.676732e-01</td>\n",
              "    </tr>\n",
              "    <tr>\n",
              "      <th>std</th>\n",
              "      <td>2.657171e+02</td>\n",
              "      <td>2.668938e+02</td>\n",
              "      <td>2.285186e+01</td>\n",
              "      <td>2.182012e+01</td>\n",
              "    </tr>\n",
              "    <tr>\n",
              "      <th>min</th>\n",
              "      <td>7.370000e+02</td>\n",
              "      <td>7.280000e+02</td>\n",
              "      <td>-5.950000e+02</td>\n",
              "      <td>-6.530000e+02</td>\n",
              "    </tr>\n",
              "    <tr>\n",
              "      <th>25%</th>\n",
              "      <td>1.559000e+03</td>\n",
              "      <td>1.557000e+03</td>\n",
              "      <td>-9.000000e+00</td>\n",
              "      <td>-1.000000e+01</td>\n",
              "    </tr>\n",
              "    <tr>\n",
              "      <th>50%</th>\n",
              "      <td>1.740000e+03</td>\n",
              "      <td>1.739000e+03</td>\n",
              "      <td>1.000000e+00</td>\n",
              "      <td>-1.000000e+00</td>\n",
              "    </tr>\n",
              "    <tr>\n",
              "      <th>75%</th>\n",
              "      <td>1.919000e+03</td>\n",
              "      <td>1.919000e+03</td>\n",
              "      <td>1.000000e+01</td>\n",
              "      <td>9.000000e+00</td>\n",
              "    </tr>\n",
              "    <tr>\n",
              "      <th>max</th>\n",
              "      <td>3.110000e+03</td>\n",
              "      <td>3.108000e+03</td>\n",
              "      <td>6.730000e+02</td>\n",
              "      <td>6.640000e+02</td>\n",
              "    </tr>\n",
              "  </tbody>\n",
              "</table>\n",
              "</div>\n",
              "      <button class=\"colab-df-convert\" onclick=\"convertToInteractive('df-bc207401-78c4-4387-bd8b-3de00684a96c')\"\n",
              "              title=\"Convert this dataframe to an interactive table.\"\n",
              "              style=\"display:none;\">\n",
              "        \n",
              "  <svg xmlns=\"http://www.w3.org/2000/svg\" height=\"24px\"viewBox=\"0 0 24 24\"\n",
              "       width=\"24px\">\n",
              "    <path d=\"M0 0h24v24H0V0z\" fill=\"none\"/>\n",
              "    <path d=\"M18.56 5.44l.94 2.06.94-2.06 2.06-.94-2.06-.94-.94-2.06-.94 2.06-2.06.94zm-11 1L8.5 8.5l.94-2.06 2.06-.94-2.06-.94L8.5 2.5l-.94 2.06-2.06.94zm10 10l.94 2.06.94-2.06 2.06-.94-2.06-.94-.94-2.06-.94 2.06-2.06.94z\"/><path d=\"M17.41 7.96l-1.37-1.37c-.4-.4-.92-.59-1.43-.59-.52 0-1.04.2-1.43.59L10.3 9.45l-7.72 7.72c-.78.78-.78 2.05 0 2.83L4 21.41c.39.39.9.59 1.41.59.51 0 1.02-.2 1.41-.59l7.78-7.78 2.81-2.81c.8-.78.8-2.07 0-2.86zM5.41 20L4 18.59l7.72-7.72 1.47 1.35L5.41 20z\"/>\n",
              "  </svg>\n",
              "      </button>\n",
              "      \n",
              "  <style>\n",
              "    .colab-df-container {\n",
              "      display:flex;\n",
              "      flex-wrap:wrap;\n",
              "      gap: 12px;\n",
              "    }\n",
              "\n",
              "    .colab-df-convert {\n",
              "      background-color: #E8F0FE;\n",
              "      border: none;\n",
              "      border-radius: 50%;\n",
              "      cursor: pointer;\n",
              "      display: none;\n",
              "      fill: #1967D2;\n",
              "      height: 32px;\n",
              "      padding: 0 0 0 0;\n",
              "      width: 32px;\n",
              "    }\n",
              "\n",
              "    .colab-df-convert:hover {\n",
              "      background-color: #E2EBFA;\n",
              "      box-shadow: 0px 1px 2px rgba(60, 64, 67, 0.3), 0px 1px 3px 1px rgba(60, 64, 67, 0.15);\n",
              "      fill: #174EA6;\n",
              "    }\n",
              "\n",
              "    [theme=dark] .colab-df-convert {\n",
              "      background-color: #3B4455;\n",
              "      fill: #D2E3FC;\n",
              "    }\n",
              "\n",
              "    [theme=dark] .colab-df-convert:hover {\n",
              "      background-color: #434B5C;\n",
              "      box-shadow: 0px 1px 3px 1px rgba(0, 0, 0, 0.15);\n",
              "      filter: drop-shadow(0px 1px 2px rgba(0, 0, 0, 0.3));\n",
              "      fill: #FFFFFF;\n",
              "    }\n",
              "  </style>\n",
              "\n",
              "      <script>\n",
              "        const buttonEl =\n",
              "          document.querySelector('#df-bc207401-78c4-4387-bd8b-3de00684a96c button.colab-df-convert');\n",
              "        buttonEl.style.display =\n",
              "          google.colab.kernel.accessAllowed ? 'block' : 'none';\n",
              "\n",
              "        async function convertToInteractive(key) {\n",
              "          const element = document.querySelector('#df-bc207401-78c4-4387-bd8b-3de00684a96c');\n",
              "          const dataTable =\n",
              "            await google.colab.kernel.invokeFunction('convertToInteractive',\n",
              "                                                     [key], {});\n",
              "          if (!dataTable) return;\n",
              "\n",
              "          const docLinkHtml = 'Like what you see? Visit the ' +\n",
              "            '<a target=\"_blank\" href=https://colab.research.google.com/notebooks/data_table.ipynb>data table notebook</a>'\n",
              "            + ' to learn more about interactive tables.';\n",
              "          element.innerHTML = '';\n",
              "          dataTable['output_type'] = 'display_data';\n",
              "          await google.colab.output.renderOutput(dataTable, element);\n",
              "          const docLink = document.createElement('div');\n",
              "          docLink.innerHTML = docLinkHtml;\n",
              "          element.appendChild(docLink);\n",
              "        }\n",
              "      </script>\n",
              "    </div>\n",
              "  </div>\n",
              "  "
            ]
          },
          "metadata": {},
          "execution_count": 11
        }
      ],
      "source": [
        "df.describe()"
      ]
    },
    {
      "cell_type": "markdown",
      "source": [
        "The describe() method returns description of the data in the DataFrame. It givens count, mean, std, min, 25%, 50%, 75% and max."
      ],
      "metadata": {
        "id": "5rQhp8SzBt0R"
      }
    },
    {
      "cell_type": "code",
      "execution_count": null,
      "metadata": {
        "colab": {
          "base_uri": "https://localhost:8080/"
        },
        "id": "MEjCPPcqFWSW",
        "outputId": "dc5eca29-fd5a-4e13-bd41-23fdea2a0c15"
      },
      "outputs": [
        {
          "output_type": "execute_result",
          "data": {
            "text/plain": [
              "4"
            ]
          },
          "metadata": {},
          "execution_count": 12
        }
      ],
      "source": [
        "numerics = ['int16', 'int32', 'int64', 'float16', 'float32', 'float64']\n",
        "\n",
        "numeric_df = df.select_dtypes(include=numerics)\n",
        "len(numeric_df.columns)"
      ]
    },
    {
      "cell_type": "markdown",
      "source": [
        "1. Here, the first line creates a list of all the data types having numeric    values and saves them into a variable called numerics\n",
        "\n",
        "2. then numeric_df variable stores column for elements stated in numerics variable.\n",
        "\n",
        "3. Simply, in the last, we are using the simple len function to calculate the number of columns."
      ],
      "metadata": {
        "id": "FmjGGtlOC2De"
      }
    },
    {
      "cell_type": "markdown",
      "metadata": {
        "id": "Ui-wuhCZBx1o"
      },
      "source": [
        "### converting 1-0/0-1 into white/black for easy recognition"
      ]
    },
    {
      "cell_type": "code",
      "execution_count": null,
      "metadata": {
        "colab": {
          "base_uri": "https://localhost:8080/",
          "height": 1000
        },
        "id": "1DdZ_OQfB7Go",
        "outputId": "a55b69ba-0b83-4506-8450-15b33b4747cf"
      },
      "outputs": [
        {
          "output_type": "execute_result",
          "data": {
            "text/plain": [
              "                      Event            White           Black Result  \\\n",
              "0                Classical           eisaaaa        HAMID449  white   \n",
              "2         Blitz tournament   Evangelistaizac          kafune  white   \n",
              "3           Correspondence            Jvayne        Wsjvayne  white   \n",
              "7         Blitz tournament             ipero       Bayern123  white   \n",
              "9         Blitz tournament        Shambobala      cernunnoss  white   \n",
              "...                     ...              ...             ...    ...   \n",
              "6256175          Classical          alferedo    berseker1500  white   \n",
              "6256176             Bullet            ogor32  HardWoodPusher  white   \n",
              "6256177             Bullet         chillillo           boe08  white   \n",
              "6256179              Blitz        GustavScar         WEBRIFF  white   \n",
              "6256180          Classical            apgaro         Camposf  white   \n",
              "\n",
              "            UTCDate   UTCTime  WhiteElo  BlackElo  WhiteRatingDiff  \\\n",
              "0        2016.06.30  22:00:01    1901.0    1896.0             11.0   \n",
              "2        2016.06.30  22:00:02    1647.0    1688.0             13.0   \n",
              "3        2016.06.30  22:00:02    1706.0    1317.0             27.0   \n",
              "7        2016.06.30  22:00:02    2155.0    2356.0             20.0   \n",
              "9        2016.06.30  22:00:02    1764.0    1773.0             12.0   \n",
              "...             ...       ...       ...       ...              ...   \n",
              "6256175  2016.07.31  21:59:58    1744.0    1337.0              2.0   \n",
              "6256176  2016.07.31  21:59:53    1802.0    1965.0             16.0   \n",
              "6256177  2016.07.31  21:59:59    1593.0    1912.0             19.0   \n",
              "6256179  2016.07.31  21:59:56    1248.0    1303.0             13.0   \n",
              "6256180  2016.07.31  21:59:54    1328.0    1292.0             10.0   \n",
              "\n",
              "         BlackRatingDiff  ECO  \\\n",
              "0                  -11.0  D10   \n",
              "2                  -13.0  B01   \n",
              "3                  -25.0  A00   \n",
              "7                  -20.0  D02   \n",
              "9                  -12.0  B01   \n",
              "...                  ...  ...   \n",
              "6256175             -3.0  A40   \n",
              "6256176            -16.0  A00   \n",
              "6256177            -24.0  B25   \n",
              "6256179            -17.0  B54   \n",
              "6256180            -11.0  C40   \n",
              "\n",
              "                                                 Opening TimeControl  \\\n",
              "0                                           Slav Defense       300+5   \n",
              "2          Scandinavian Defense: Mieses-Kotroc Variation       180+0   \n",
              "3                                   Van't Kruijs Opening           -   \n",
              "7                       Queen's Pawn Game: London System       180+0   \n",
              "9          Scandinavian Defense: Mieses-Kotroc Variation       180+0   \n",
              "...                                                  ...         ...   \n",
              "6256175                                   Modern Defense      900+11   \n",
              "6256176       Hungarian Opening: Reversed Modern Defense         0+1   \n",
              "6256177  Sicilian Defense: Closed Variation, Traditional        60+0   \n",
              "6256179                                 Sicilian Defense       180+3   \n",
              "6256180                            King's Knight Opening      1800+0   \n",
              "\n",
              "          Termination                                                 AN  \n",
              "0        Time forfeit  1. d4 d5 2. c4 c6 3. e3 a6 4. Nf3 e5 5. cxd5 e...  \n",
              "2        Time forfeit  1. e4 d5 2. exd5 Qxd5 3. Nf3 Bg4 4. Be2 Nf6 5....  \n",
              "3              Normal  1. e3 Nf6 2. Bc4 d6 3. e4 e6 4. Nf3 Nxe4 5. Nd...  \n",
              "7              Normal  1. d4 d5 2. Nf3 Nf6 3. Bf4 c6 4. e3 Bg4 5. Be2...  \n",
              "9        Time forfeit  1. e4 d5 2. exd5 Qxd5 3. Nf3 Nf6 4. Be2 c6 5. ...  \n",
              "...               ...                                                ...  \n",
              "6256175        Normal  1. d4 g6 2. b3 c6 3. Bb2 Bg7 4. Nf3 d6 5. e3 h...  \n",
              "6256176  Time forfeit  1. g3 { [%eval -0.25] } 1... d5 { [%eval 0.0] ...  \n",
              "6256177        Normal  1. e4 c5 2. Nc3 Nc6 3. Nf3 e6 4. Bb5 Nge7 5. a...  \n",
              "6256179        Normal  1. e4 c5 2. Nf3 d6 3. d4 Qa5+ 4. Bd2 Qc7 5. Bc...  \n",
              "6256180        Normal  1. e4 e5 2. Nf3 h6 3. Nc3 d6 4. Bc4 Qf6 5. Nd5...  \n",
              "\n",
              "[3111715 rows x 15 columns]"
            ],
            "text/html": [
              "\n",
              "  <div id=\"df-363738a1-f411-4cfb-83cf-de03a43e4d28\">\n",
              "    <div class=\"colab-df-container\">\n",
              "      <div>\n",
              "<style scoped>\n",
              "    .dataframe tbody tr th:only-of-type {\n",
              "        vertical-align: middle;\n",
              "    }\n",
              "\n",
              "    .dataframe tbody tr th {\n",
              "        vertical-align: top;\n",
              "    }\n",
              "\n",
              "    .dataframe thead th {\n",
              "        text-align: right;\n",
              "    }\n",
              "</style>\n",
              "<table border=\"1\" class=\"dataframe\">\n",
              "  <thead>\n",
              "    <tr style=\"text-align: right;\">\n",
              "      <th></th>\n",
              "      <th>Event</th>\n",
              "      <th>White</th>\n",
              "      <th>Black</th>\n",
              "      <th>Result</th>\n",
              "      <th>UTCDate</th>\n",
              "      <th>UTCTime</th>\n",
              "      <th>WhiteElo</th>\n",
              "      <th>BlackElo</th>\n",
              "      <th>WhiteRatingDiff</th>\n",
              "      <th>BlackRatingDiff</th>\n",
              "      <th>ECO</th>\n",
              "      <th>Opening</th>\n",
              "      <th>TimeControl</th>\n",
              "      <th>Termination</th>\n",
              "      <th>AN</th>\n",
              "    </tr>\n",
              "  </thead>\n",
              "  <tbody>\n",
              "    <tr>\n",
              "      <th>0</th>\n",
              "      <td>Classical</td>\n",
              "      <td>eisaaaa</td>\n",
              "      <td>HAMID449</td>\n",
              "      <td>white</td>\n",
              "      <td>2016.06.30</td>\n",
              "      <td>22:00:01</td>\n",
              "      <td>1901.0</td>\n",
              "      <td>1896.0</td>\n",
              "      <td>11.0</td>\n",
              "      <td>-11.0</td>\n",
              "      <td>D10</td>\n",
              "      <td>Slav Defense</td>\n",
              "      <td>300+5</td>\n",
              "      <td>Time forfeit</td>\n",
              "      <td>1. d4 d5 2. c4 c6 3. e3 a6 4. Nf3 e5 5. cxd5 e...</td>\n",
              "    </tr>\n",
              "    <tr>\n",
              "      <th>2</th>\n",
              "      <td>Blitz tournament</td>\n",
              "      <td>Evangelistaizac</td>\n",
              "      <td>kafune</td>\n",
              "      <td>white</td>\n",
              "      <td>2016.06.30</td>\n",
              "      <td>22:00:02</td>\n",
              "      <td>1647.0</td>\n",
              "      <td>1688.0</td>\n",
              "      <td>13.0</td>\n",
              "      <td>-13.0</td>\n",
              "      <td>B01</td>\n",
              "      <td>Scandinavian Defense: Mieses-Kotroc Variation</td>\n",
              "      <td>180+0</td>\n",
              "      <td>Time forfeit</td>\n",
              "      <td>1. e4 d5 2. exd5 Qxd5 3. Nf3 Bg4 4. Be2 Nf6 5....</td>\n",
              "    </tr>\n",
              "    <tr>\n",
              "      <th>3</th>\n",
              "      <td>Correspondence</td>\n",
              "      <td>Jvayne</td>\n",
              "      <td>Wsjvayne</td>\n",
              "      <td>white</td>\n",
              "      <td>2016.06.30</td>\n",
              "      <td>22:00:02</td>\n",
              "      <td>1706.0</td>\n",
              "      <td>1317.0</td>\n",
              "      <td>27.0</td>\n",
              "      <td>-25.0</td>\n",
              "      <td>A00</td>\n",
              "      <td>Van't Kruijs Opening</td>\n",
              "      <td>-</td>\n",
              "      <td>Normal</td>\n",
              "      <td>1. e3 Nf6 2. Bc4 d6 3. e4 e6 4. Nf3 Nxe4 5. Nd...</td>\n",
              "    </tr>\n",
              "    <tr>\n",
              "      <th>7</th>\n",
              "      <td>Blitz tournament</td>\n",
              "      <td>ipero</td>\n",
              "      <td>Bayern123</td>\n",
              "      <td>white</td>\n",
              "      <td>2016.06.30</td>\n",
              "      <td>22:00:02</td>\n",
              "      <td>2155.0</td>\n",
              "      <td>2356.0</td>\n",
              "      <td>20.0</td>\n",
              "      <td>-20.0</td>\n",
              "      <td>D02</td>\n",
              "      <td>Queen's Pawn Game: London System</td>\n",
              "      <td>180+0</td>\n",
              "      <td>Normal</td>\n",
              "      <td>1. d4 d5 2. Nf3 Nf6 3. Bf4 c6 4. e3 Bg4 5. Be2...</td>\n",
              "    </tr>\n",
              "    <tr>\n",
              "      <th>9</th>\n",
              "      <td>Blitz tournament</td>\n",
              "      <td>Shambobala</td>\n",
              "      <td>cernunnoss</td>\n",
              "      <td>white</td>\n",
              "      <td>2016.06.30</td>\n",
              "      <td>22:00:02</td>\n",
              "      <td>1764.0</td>\n",
              "      <td>1773.0</td>\n",
              "      <td>12.0</td>\n",
              "      <td>-12.0</td>\n",
              "      <td>B01</td>\n",
              "      <td>Scandinavian Defense: Mieses-Kotroc Variation</td>\n",
              "      <td>180+0</td>\n",
              "      <td>Time forfeit</td>\n",
              "      <td>1. e4 d5 2. exd5 Qxd5 3. Nf3 Nf6 4. Be2 c6 5. ...</td>\n",
              "    </tr>\n",
              "    <tr>\n",
              "      <th>...</th>\n",
              "      <td>...</td>\n",
              "      <td>...</td>\n",
              "      <td>...</td>\n",
              "      <td>...</td>\n",
              "      <td>...</td>\n",
              "      <td>...</td>\n",
              "      <td>...</td>\n",
              "      <td>...</td>\n",
              "      <td>...</td>\n",
              "      <td>...</td>\n",
              "      <td>...</td>\n",
              "      <td>...</td>\n",
              "      <td>...</td>\n",
              "      <td>...</td>\n",
              "      <td>...</td>\n",
              "    </tr>\n",
              "    <tr>\n",
              "      <th>6256175</th>\n",
              "      <td>Classical</td>\n",
              "      <td>alferedo</td>\n",
              "      <td>berseker1500</td>\n",
              "      <td>white</td>\n",
              "      <td>2016.07.31</td>\n",
              "      <td>21:59:58</td>\n",
              "      <td>1744.0</td>\n",
              "      <td>1337.0</td>\n",
              "      <td>2.0</td>\n",
              "      <td>-3.0</td>\n",
              "      <td>A40</td>\n",
              "      <td>Modern Defense</td>\n",
              "      <td>900+11</td>\n",
              "      <td>Normal</td>\n",
              "      <td>1. d4 g6 2. b3 c6 3. Bb2 Bg7 4. Nf3 d6 5. e3 h...</td>\n",
              "    </tr>\n",
              "    <tr>\n",
              "      <th>6256176</th>\n",
              "      <td>Bullet</td>\n",
              "      <td>ogor32</td>\n",
              "      <td>HardWoodPusher</td>\n",
              "      <td>white</td>\n",
              "      <td>2016.07.31</td>\n",
              "      <td>21:59:53</td>\n",
              "      <td>1802.0</td>\n",
              "      <td>1965.0</td>\n",
              "      <td>16.0</td>\n",
              "      <td>-16.0</td>\n",
              "      <td>A00</td>\n",
              "      <td>Hungarian Opening: Reversed Modern Defense</td>\n",
              "      <td>0+1</td>\n",
              "      <td>Time forfeit</td>\n",
              "      <td>1. g3 { [%eval -0.25] } 1... d5 { [%eval 0.0] ...</td>\n",
              "    </tr>\n",
              "    <tr>\n",
              "      <th>6256177</th>\n",
              "      <td>Bullet</td>\n",
              "      <td>chillillo</td>\n",
              "      <td>boe08</td>\n",
              "      <td>white</td>\n",
              "      <td>2016.07.31</td>\n",
              "      <td>21:59:59</td>\n",
              "      <td>1593.0</td>\n",
              "      <td>1912.0</td>\n",
              "      <td>19.0</td>\n",
              "      <td>-24.0</td>\n",
              "      <td>B25</td>\n",
              "      <td>Sicilian Defense: Closed Variation, Traditional</td>\n",
              "      <td>60+0</td>\n",
              "      <td>Normal</td>\n",
              "      <td>1. e4 c5 2. Nc3 Nc6 3. Nf3 e6 4. Bb5 Nge7 5. a...</td>\n",
              "    </tr>\n",
              "    <tr>\n",
              "      <th>6256179</th>\n",
              "      <td>Blitz</td>\n",
              "      <td>GustavScar</td>\n",
              "      <td>WEBRIFF</td>\n",
              "      <td>white</td>\n",
              "      <td>2016.07.31</td>\n",
              "      <td>21:59:56</td>\n",
              "      <td>1248.0</td>\n",
              "      <td>1303.0</td>\n",
              "      <td>13.0</td>\n",
              "      <td>-17.0</td>\n",
              "      <td>B54</td>\n",
              "      <td>Sicilian Defense</td>\n",
              "      <td>180+3</td>\n",
              "      <td>Normal</td>\n",
              "      <td>1. e4 c5 2. Nf3 d6 3. d4 Qa5+ 4. Bd2 Qc7 5. Bc...</td>\n",
              "    </tr>\n",
              "    <tr>\n",
              "      <th>6256180</th>\n",
              "      <td>Classical</td>\n",
              "      <td>apgaro</td>\n",
              "      <td>Camposf</td>\n",
              "      <td>white</td>\n",
              "      <td>2016.07.31</td>\n",
              "      <td>21:59:54</td>\n",
              "      <td>1328.0</td>\n",
              "      <td>1292.0</td>\n",
              "      <td>10.0</td>\n",
              "      <td>-11.0</td>\n",
              "      <td>C40</td>\n",
              "      <td>King's Knight Opening</td>\n",
              "      <td>1800+0</td>\n",
              "      <td>Normal</td>\n",
              "      <td>1. e4 e5 2. Nf3 h6 3. Nc3 d6 4. Bc4 Qf6 5. Nd5...</td>\n",
              "    </tr>\n",
              "  </tbody>\n",
              "</table>\n",
              "<p>3111715 rows × 15 columns</p>\n",
              "</div>\n",
              "      <button class=\"colab-df-convert\" onclick=\"convertToInteractive('df-363738a1-f411-4cfb-83cf-de03a43e4d28')\"\n",
              "              title=\"Convert this dataframe to an interactive table.\"\n",
              "              style=\"display:none;\">\n",
              "        \n",
              "  <svg xmlns=\"http://www.w3.org/2000/svg\" height=\"24px\"viewBox=\"0 0 24 24\"\n",
              "       width=\"24px\">\n",
              "    <path d=\"M0 0h24v24H0V0z\" fill=\"none\"/>\n",
              "    <path d=\"M18.56 5.44l.94 2.06.94-2.06 2.06-.94-2.06-.94-.94-2.06-.94 2.06-2.06.94zm-11 1L8.5 8.5l.94-2.06 2.06-.94-2.06-.94L8.5 2.5l-.94 2.06-2.06.94zm10 10l.94 2.06.94-2.06 2.06-.94-2.06-.94-.94-2.06-.94 2.06-2.06.94z\"/><path d=\"M17.41 7.96l-1.37-1.37c-.4-.4-.92-.59-1.43-.59-.52 0-1.04.2-1.43.59L10.3 9.45l-7.72 7.72c-.78.78-.78 2.05 0 2.83L4 21.41c.39.39.9.59 1.41.59.51 0 1.02-.2 1.41-.59l7.78-7.78 2.81-2.81c.8-.78.8-2.07 0-2.86zM5.41 20L4 18.59l7.72-7.72 1.47 1.35L5.41 20z\"/>\n",
              "  </svg>\n",
              "      </button>\n",
              "      \n",
              "  <style>\n",
              "    .colab-df-container {\n",
              "      display:flex;\n",
              "      flex-wrap:wrap;\n",
              "      gap: 12px;\n",
              "    }\n",
              "\n",
              "    .colab-df-convert {\n",
              "      background-color: #E8F0FE;\n",
              "      border: none;\n",
              "      border-radius: 50%;\n",
              "      cursor: pointer;\n",
              "      display: none;\n",
              "      fill: #1967D2;\n",
              "      height: 32px;\n",
              "      padding: 0 0 0 0;\n",
              "      width: 32px;\n",
              "    }\n",
              "\n",
              "    .colab-df-convert:hover {\n",
              "      background-color: #E2EBFA;\n",
              "      box-shadow: 0px 1px 2px rgba(60, 64, 67, 0.3), 0px 1px 3px 1px rgba(60, 64, 67, 0.15);\n",
              "      fill: #174EA6;\n",
              "    }\n",
              "\n",
              "    [theme=dark] .colab-df-convert {\n",
              "      background-color: #3B4455;\n",
              "      fill: #D2E3FC;\n",
              "    }\n",
              "\n",
              "    [theme=dark] .colab-df-convert:hover {\n",
              "      background-color: #434B5C;\n",
              "      box-shadow: 0px 1px 3px 1px rgba(0, 0, 0, 0.15);\n",
              "      filter: drop-shadow(0px 1px 2px rgba(0, 0, 0, 0.3));\n",
              "      fill: #FFFFFF;\n",
              "    }\n",
              "  </style>\n",
              "\n",
              "      <script>\n",
              "        const buttonEl =\n",
              "          document.querySelector('#df-363738a1-f411-4cfb-83cf-de03a43e4d28 button.colab-df-convert');\n",
              "        buttonEl.style.display =\n",
              "          google.colab.kernel.accessAllowed ? 'block' : 'none';\n",
              "\n",
              "        async function convertToInteractive(key) {\n",
              "          const element = document.querySelector('#df-363738a1-f411-4cfb-83cf-de03a43e4d28');\n",
              "          const dataTable =\n",
              "            await google.colab.kernel.invokeFunction('convertToInteractive',\n",
              "                                                     [key], {});\n",
              "          if (!dataTable) return;\n",
              "\n",
              "          const docLinkHtml = 'Like what you see? Visit the ' +\n",
              "            '<a target=\"_blank\" href=https://colab.research.google.com/notebooks/data_table.ipynb>data table notebook</a>'\n",
              "            + ' to learn more about interactive tables.';\n",
              "          element.innerHTML = '';\n",
              "          dataTable['output_type'] = 'display_data';\n",
              "          await google.colab.output.renderOutput(dataTable, element);\n",
              "          const docLink = document.createElement('div');\n",
              "          docLink.innerHTML = docLinkHtml;\n",
              "          element.appendChild(docLink);\n",
              "        }\n",
              "      </script>\n",
              "    </div>\n",
              "  </div>\n",
              "  "
            ]
          },
          "metadata": {},
          "execution_count": 13
        }
      ],
      "source": [
        "df[\"Result\"] = df[\"Result\"].replace(['1-0'], \"white\")\n",
        "filter = df[\"Result\"]==\"white\"\n",
        "df.where(filter).dropna()\n"
      ]
    },
    {
      "cell_type": "code",
      "execution_count": null,
      "metadata": {
        "colab": {
          "base_uri": "https://localhost:8080/",
          "height": 1000
        },
        "id": "DwhGfNshGzAu",
        "outputId": "424ef557-3b77-4e50-9106-778354ce90a1"
      },
      "outputs": [
        {
          "output_type": "execute_result",
          "data": {
            "text/plain": [
              "                      Event                 White            Black Result  \\\n",
              "1                    Blitz                 go4jas       Sergei1973  black   \n",
              "4         Blitz tournament                 kyoday        BrettDale  black   \n",
              "5         Blitz tournament         lucaseixasouza           diguim  black   \n",
              "6         Blitz tournament               RENZZO77  HeadlessChicken  black   \n",
              "8         Blitz tournament        Loginov19510410          Kereshu  black   \n",
              "...                     ...                   ...              ...    ...   \n",
              "6256172              Blitz                skell93         trombler  black   \n",
              "6256178              Blitz           ANASTASIA-11         Roberto7  black   \n",
              "6256181             Bullet   matematico1234567890   cecile_creteil  black   \n",
              "6256182             Bullet            MagnusMinor           shegap  black   \n",
              "6256183          Classical              SocratAss           KOSMA7  black   \n",
              "\n",
              "            UTCDate   UTCTime  WhiteElo  BlackElo  WhiteRatingDiff  \\\n",
              "1        2016.06.30  22:00:01    1641.0    1627.0            -11.0   \n",
              "4        2016.06.30  22:00:02    1945.0    1900.0            -14.0   \n",
              "5        2016.06.30  22:00:02    1773.0    1809.0            -10.0   \n",
              "6        2016.06.30  22:00:02    1895.0    1886.0            -12.0   \n",
              "8        2016.06.30  22:00:02    2010.0    2111.0             -9.0   \n",
              "...             ...       ...       ...       ...              ...   \n",
              "6256172  2016.07.31  21:59:56    1511.0    1586.0             -9.0   \n",
              "6256178  2016.07.31  21:59:57    1491.0    1509.0            -11.0   \n",
              "6256181  2016.07.31  21:59:53    1660.0    1658.0            -11.0   \n",
              "6256182  2016.07.31  21:59:57    1726.0    1776.0             -8.0   \n",
              "6256183  2016.07.31  21:59:54    1948.0    1992.0            -74.0   \n",
              "\n",
              "         BlackRatingDiff  ECO                                      Opening  \\\n",
              "1                   12.0  C20                    King's Pawn Opening: 2.b3   \n",
              "4                   13.0  B90  Sicilian Defense: Najdorf, Lipnitsky Attack   \n",
              "5                   10.0  C27                                  Vienna Game   \n",
              "6                   12.0  B10        Caro-Kann Defense: Two Knights Attack   \n",
              "8                    9.0  A45                                  Indian Game   \n",
              "...                  ...  ...                                          ...   \n",
              "6256172              8.0  A00     Hungarian Opening: Symmetrical Variation   \n",
              "6256178             10.0  C20            King's Pawn Game: Napoleon Attack   \n",
              "6256181             11.0  B21         Sicilian Defense: Smith-Morra Gambit   \n",
              "6256182              9.0  A09                  Reti Opening: Reti Accepted   \n",
              "6256183              8.0  C00            Rat Defense: Small Center Defense   \n",
              "\n",
              "        TimeControl   Termination  \\\n",
              "1             300+0        Normal   \n",
              "4             180+0  Time forfeit   \n",
              "5             180+0        Normal   \n",
              "6             180+0  Time forfeit   \n",
              "8             300+0        Normal   \n",
              "...             ...           ...   \n",
              "6256172       240+0        Normal   \n",
              "6256178       120+4        Normal   \n",
              "6256181       120+0        Normal   \n",
              "6256182        60+0        Normal   \n",
              "6256183       480+0        Normal   \n",
              "\n",
              "                                                        AN  \n",
              "1        1. e4 e5 2. b3 Nf6 3. Bb2 Nc6 4. Nf3 d6 5. d3 ...  \n",
              "4        1. e4 c5 2. Nf3 d6 3. d4 cxd4 4. Nxd4 Nf6 5. N...  \n",
              "5        1. e4 e5 2. Nc3 d6 3. Nf3 h6 4. Bc4 c6 5. b3 Q...  \n",
              "6        1. e4 c6 2. Nf3 d5 3. Nc3 dxe4 4. Nxe4 Nf6 5. ...  \n",
              "8        1. d4 Nf6 2. Bf4 e6 3. e3 d5 4. Nf3 h6 5. Bd3 ...  \n",
              "...                                                    ...  \n",
              "6256172  1. g3 g6 2. Bg2 Bg7 3. Nf3 Nf6 4. O-O d5 5. Nd...  \n",
              "6256178  1. e4 e5 2. Qf3 Nc6 3. Bc4 Nf6 4. d3 Be7 5. Ne...  \n",
              "6256181  1. e4 { [%eval 0.22] } 1... c5 { [%eval 0.35] ...  \n",
              "6256182  1. Nf3 d5 2. c4 dxc4 3. Qa4+ c6 4. Qxc4 Nf6 5....  \n",
              "6256183  1. e4 e6 2. d4 d6 3. Nc3 c6 4. Nf3 Be7 5. Bc4 ...  \n",
              "\n",
              "[2901035 rows x 15 columns]"
            ],
            "text/html": [
              "\n",
              "  <div id=\"df-25db3c69-e770-4ee5-9c2c-e77f74a1f936\">\n",
              "    <div class=\"colab-df-container\">\n",
              "      <div>\n",
              "<style scoped>\n",
              "    .dataframe tbody tr th:only-of-type {\n",
              "        vertical-align: middle;\n",
              "    }\n",
              "\n",
              "    .dataframe tbody tr th {\n",
              "        vertical-align: top;\n",
              "    }\n",
              "\n",
              "    .dataframe thead th {\n",
              "        text-align: right;\n",
              "    }\n",
              "</style>\n",
              "<table border=\"1\" class=\"dataframe\">\n",
              "  <thead>\n",
              "    <tr style=\"text-align: right;\">\n",
              "      <th></th>\n",
              "      <th>Event</th>\n",
              "      <th>White</th>\n",
              "      <th>Black</th>\n",
              "      <th>Result</th>\n",
              "      <th>UTCDate</th>\n",
              "      <th>UTCTime</th>\n",
              "      <th>WhiteElo</th>\n",
              "      <th>BlackElo</th>\n",
              "      <th>WhiteRatingDiff</th>\n",
              "      <th>BlackRatingDiff</th>\n",
              "      <th>ECO</th>\n",
              "      <th>Opening</th>\n",
              "      <th>TimeControl</th>\n",
              "      <th>Termination</th>\n",
              "      <th>AN</th>\n",
              "    </tr>\n",
              "  </thead>\n",
              "  <tbody>\n",
              "    <tr>\n",
              "      <th>1</th>\n",
              "      <td>Blitz</td>\n",
              "      <td>go4jas</td>\n",
              "      <td>Sergei1973</td>\n",
              "      <td>black</td>\n",
              "      <td>2016.06.30</td>\n",
              "      <td>22:00:01</td>\n",
              "      <td>1641.0</td>\n",
              "      <td>1627.0</td>\n",
              "      <td>-11.0</td>\n",
              "      <td>12.0</td>\n",
              "      <td>C20</td>\n",
              "      <td>King's Pawn Opening: 2.b3</td>\n",
              "      <td>300+0</td>\n",
              "      <td>Normal</td>\n",
              "      <td>1. e4 e5 2. b3 Nf6 3. Bb2 Nc6 4. Nf3 d6 5. d3 ...</td>\n",
              "    </tr>\n",
              "    <tr>\n",
              "      <th>4</th>\n",
              "      <td>Blitz tournament</td>\n",
              "      <td>kyoday</td>\n",
              "      <td>BrettDale</td>\n",
              "      <td>black</td>\n",
              "      <td>2016.06.30</td>\n",
              "      <td>22:00:02</td>\n",
              "      <td>1945.0</td>\n",
              "      <td>1900.0</td>\n",
              "      <td>-14.0</td>\n",
              "      <td>13.0</td>\n",
              "      <td>B90</td>\n",
              "      <td>Sicilian Defense: Najdorf, Lipnitsky Attack</td>\n",
              "      <td>180+0</td>\n",
              "      <td>Time forfeit</td>\n",
              "      <td>1. e4 c5 2. Nf3 d6 3. d4 cxd4 4. Nxd4 Nf6 5. N...</td>\n",
              "    </tr>\n",
              "    <tr>\n",
              "      <th>5</th>\n",
              "      <td>Blitz tournament</td>\n",
              "      <td>lucaseixasouza</td>\n",
              "      <td>diguim</td>\n",
              "      <td>black</td>\n",
              "      <td>2016.06.30</td>\n",
              "      <td>22:00:02</td>\n",
              "      <td>1773.0</td>\n",
              "      <td>1809.0</td>\n",
              "      <td>-10.0</td>\n",
              "      <td>10.0</td>\n",
              "      <td>C27</td>\n",
              "      <td>Vienna Game</td>\n",
              "      <td>180+0</td>\n",
              "      <td>Normal</td>\n",
              "      <td>1. e4 e5 2. Nc3 d6 3. Nf3 h6 4. Bc4 c6 5. b3 Q...</td>\n",
              "    </tr>\n",
              "    <tr>\n",
              "      <th>6</th>\n",
              "      <td>Blitz tournament</td>\n",
              "      <td>RENZZO77</td>\n",
              "      <td>HeadlessChicken</td>\n",
              "      <td>black</td>\n",
              "      <td>2016.06.30</td>\n",
              "      <td>22:00:02</td>\n",
              "      <td>1895.0</td>\n",
              "      <td>1886.0</td>\n",
              "      <td>-12.0</td>\n",
              "      <td>12.0</td>\n",
              "      <td>B10</td>\n",
              "      <td>Caro-Kann Defense: Two Knights Attack</td>\n",
              "      <td>180+0</td>\n",
              "      <td>Time forfeit</td>\n",
              "      <td>1. e4 c6 2. Nf3 d5 3. Nc3 dxe4 4. Nxe4 Nf6 5. ...</td>\n",
              "    </tr>\n",
              "    <tr>\n",
              "      <th>8</th>\n",
              "      <td>Blitz tournament</td>\n",
              "      <td>Loginov19510410</td>\n",
              "      <td>Kereshu</td>\n",
              "      <td>black</td>\n",
              "      <td>2016.06.30</td>\n",
              "      <td>22:00:02</td>\n",
              "      <td>2010.0</td>\n",
              "      <td>2111.0</td>\n",
              "      <td>-9.0</td>\n",
              "      <td>9.0</td>\n",
              "      <td>A45</td>\n",
              "      <td>Indian Game</td>\n",
              "      <td>300+0</td>\n",
              "      <td>Normal</td>\n",
              "      <td>1. d4 Nf6 2. Bf4 e6 3. e3 d5 4. Nf3 h6 5. Bd3 ...</td>\n",
              "    </tr>\n",
              "    <tr>\n",
              "      <th>...</th>\n",
              "      <td>...</td>\n",
              "      <td>...</td>\n",
              "      <td>...</td>\n",
              "      <td>...</td>\n",
              "      <td>...</td>\n",
              "      <td>...</td>\n",
              "      <td>...</td>\n",
              "      <td>...</td>\n",
              "      <td>...</td>\n",
              "      <td>...</td>\n",
              "      <td>...</td>\n",
              "      <td>...</td>\n",
              "      <td>...</td>\n",
              "      <td>...</td>\n",
              "      <td>...</td>\n",
              "    </tr>\n",
              "    <tr>\n",
              "      <th>6256172</th>\n",
              "      <td>Blitz</td>\n",
              "      <td>skell93</td>\n",
              "      <td>trombler</td>\n",
              "      <td>black</td>\n",
              "      <td>2016.07.31</td>\n",
              "      <td>21:59:56</td>\n",
              "      <td>1511.0</td>\n",
              "      <td>1586.0</td>\n",
              "      <td>-9.0</td>\n",
              "      <td>8.0</td>\n",
              "      <td>A00</td>\n",
              "      <td>Hungarian Opening: Symmetrical Variation</td>\n",
              "      <td>240+0</td>\n",
              "      <td>Normal</td>\n",
              "      <td>1. g3 g6 2. Bg2 Bg7 3. Nf3 Nf6 4. O-O d5 5. Nd...</td>\n",
              "    </tr>\n",
              "    <tr>\n",
              "      <th>6256178</th>\n",
              "      <td>Blitz</td>\n",
              "      <td>ANASTASIA-11</td>\n",
              "      <td>Roberto7</td>\n",
              "      <td>black</td>\n",
              "      <td>2016.07.31</td>\n",
              "      <td>21:59:57</td>\n",
              "      <td>1491.0</td>\n",
              "      <td>1509.0</td>\n",
              "      <td>-11.0</td>\n",
              "      <td>10.0</td>\n",
              "      <td>C20</td>\n",
              "      <td>King's Pawn Game: Napoleon Attack</td>\n",
              "      <td>120+4</td>\n",
              "      <td>Normal</td>\n",
              "      <td>1. e4 e5 2. Qf3 Nc6 3. Bc4 Nf6 4. d3 Be7 5. Ne...</td>\n",
              "    </tr>\n",
              "    <tr>\n",
              "      <th>6256181</th>\n",
              "      <td>Bullet</td>\n",
              "      <td>matematico1234567890</td>\n",
              "      <td>cecile_creteil</td>\n",
              "      <td>black</td>\n",
              "      <td>2016.07.31</td>\n",
              "      <td>21:59:53</td>\n",
              "      <td>1660.0</td>\n",
              "      <td>1658.0</td>\n",
              "      <td>-11.0</td>\n",
              "      <td>11.0</td>\n",
              "      <td>B21</td>\n",
              "      <td>Sicilian Defense: Smith-Morra Gambit</td>\n",
              "      <td>120+0</td>\n",
              "      <td>Normal</td>\n",
              "      <td>1. e4 { [%eval 0.22] } 1... c5 { [%eval 0.35] ...</td>\n",
              "    </tr>\n",
              "    <tr>\n",
              "      <th>6256182</th>\n",
              "      <td>Bullet</td>\n",
              "      <td>MagnusMinor</td>\n",
              "      <td>shegap</td>\n",
              "      <td>black</td>\n",
              "      <td>2016.07.31</td>\n",
              "      <td>21:59:57</td>\n",
              "      <td>1726.0</td>\n",
              "      <td>1776.0</td>\n",
              "      <td>-8.0</td>\n",
              "      <td>9.0</td>\n",
              "      <td>A09</td>\n",
              "      <td>Reti Opening: Reti Accepted</td>\n",
              "      <td>60+0</td>\n",
              "      <td>Normal</td>\n",
              "      <td>1. Nf3 d5 2. c4 dxc4 3. Qa4+ c6 4. Qxc4 Nf6 5....</td>\n",
              "    </tr>\n",
              "    <tr>\n",
              "      <th>6256183</th>\n",
              "      <td>Classical</td>\n",
              "      <td>SocratAss</td>\n",
              "      <td>KOSMA7</td>\n",
              "      <td>black</td>\n",
              "      <td>2016.07.31</td>\n",
              "      <td>21:59:54</td>\n",
              "      <td>1948.0</td>\n",
              "      <td>1992.0</td>\n",
              "      <td>-74.0</td>\n",
              "      <td>8.0</td>\n",
              "      <td>C00</td>\n",
              "      <td>Rat Defense: Small Center Defense</td>\n",
              "      <td>480+0</td>\n",
              "      <td>Normal</td>\n",
              "      <td>1. e4 e6 2. d4 d6 3. Nc3 c6 4. Nf3 Be7 5. Bc4 ...</td>\n",
              "    </tr>\n",
              "  </tbody>\n",
              "</table>\n",
              "<p>2901035 rows × 15 columns</p>\n",
              "</div>\n",
              "      <button class=\"colab-df-convert\" onclick=\"convertToInteractive('df-25db3c69-e770-4ee5-9c2c-e77f74a1f936')\"\n",
              "              title=\"Convert this dataframe to an interactive table.\"\n",
              "              style=\"display:none;\">\n",
              "        \n",
              "  <svg xmlns=\"http://www.w3.org/2000/svg\" height=\"24px\"viewBox=\"0 0 24 24\"\n",
              "       width=\"24px\">\n",
              "    <path d=\"M0 0h24v24H0V0z\" fill=\"none\"/>\n",
              "    <path d=\"M18.56 5.44l.94 2.06.94-2.06 2.06-.94-2.06-.94-.94-2.06-.94 2.06-2.06.94zm-11 1L8.5 8.5l.94-2.06 2.06-.94-2.06-.94L8.5 2.5l-.94 2.06-2.06.94zm10 10l.94 2.06.94-2.06 2.06-.94-2.06-.94-.94-2.06-.94 2.06-2.06.94z\"/><path d=\"M17.41 7.96l-1.37-1.37c-.4-.4-.92-.59-1.43-.59-.52 0-1.04.2-1.43.59L10.3 9.45l-7.72 7.72c-.78.78-.78 2.05 0 2.83L4 21.41c.39.39.9.59 1.41.59.51 0 1.02-.2 1.41-.59l7.78-7.78 2.81-2.81c.8-.78.8-2.07 0-2.86zM5.41 20L4 18.59l7.72-7.72 1.47 1.35L5.41 20z\"/>\n",
              "  </svg>\n",
              "      </button>\n",
              "      \n",
              "  <style>\n",
              "    .colab-df-container {\n",
              "      display:flex;\n",
              "      flex-wrap:wrap;\n",
              "      gap: 12px;\n",
              "    }\n",
              "\n",
              "    .colab-df-convert {\n",
              "      background-color: #E8F0FE;\n",
              "      border: none;\n",
              "      border-radius: 50%;\n",
              "      cursor: pointer;\n",
              "      display: none;\n",
              "      fill: #1967D2;\n",
              "      height: 32px;\n",
              "      padding: 0 0 0 0;\n",
              "      width: 32px;\n",
              "    }\n",
              "\n",
              "    .colab-df-convert:hover {\n",
              "      background-color: #E2EBFA;\n",
              "      box-shadow: 0px 1px 2px rgba(60, 64, 67, 0.3), 0px 1px 3px 1px rgba(60, 64, 67, 0.15);\n",
              "      fill: #174EA6;\n",
              "    }\n",
              "\n",
              "    [theme=dark] .colab-df-convert {\n",
              "      background-color: #3B4455;\n",
              "      fill: #D2E3FC;\n",
              "    }\n",
              "\n",
              "    [theme=dark] .colab-df-convert:hover {\n",
              "      background-color: #434B5C;\n",
              "      box-shadow: 0px 1px 3px 1px rgba(0, 0, 0, 0.15);\n",
              "      filter: drop-shadow(0px 1px 2px rgba(0, 0, 0, 0.3));\n",
              "      fill: #FFFFFF;\n",
              "    }\n",
              "  </style>\n",
              "\n",
              "      <script>\n",
              "        const buttonEl =\n",
              "          document.querySelector('#df-25db3c69-e770-4ee5-9c2c-e77f74a1f936 button.colab-df-convert');\n",
              "        buttonEl.style.display =\n",
              "          google.colab.kernel.accessAllowed ? 'block' : 'none';\n",
              "\n",
              "        async function convertToInteractive(key) {\n",
              "          const element = document.querySelector('#df-25db3c69-e770-4ee5-9c2c-e77f74a1f936');\n",
              "          const dataTable =\n",
              "            await google.colab.kernel.invokeFunction('convertToInteractive',\n",
              "                                                     [key], {});\n",
              "          if (!dataTable) return;\n",
              "\n",
              "          const docLinkHtml = 'Like what you see? Visit the ' +\n",
              "            '<a target=\"_blank\" href=https://colab.research.google.com/notebooks/data_table.ipynb>data table notebook</a>'\n",
              "            + ' to learn more about interactive tables.';\n",
              "          element.innerHTML = '';\n",
              "          dataTable['output_type'] = 'display_data';\n",
              "          await google.colab.output.renderOutput(dataTable, element);\n",
              "          const docLink = document.createElement('div');\n",
              "          docLink.innerHTML = docLinkHtml;\n",
              "          element.appendChild(docLink);\n",
              "        }\n",
              "      </script>\n",
              "    </div>\n",
              "  </div>\n",
              "  "
            ]
          },
          "metadata": {},
          "execution_count": 14
        }
      ],
      "source": [
        "df[\"Result\"] = df[\"Result\"].replace(['0-1'], \"black\")\n",
        "filter = df[\"Result\"]==\"black\"\n",
        "df.where(filter).dropna()"
      ]
    },
    {
      "cell_type": "code",
      "execution_count": null,
      "metadata": {
        "colab": {
          "base_uri": "https://localhost:8080/",
          "height": 1000
        },
        "id": "xewTLvEXG5CO",
        "outputId": "ddda4556-07f5-41d8-babb-72936c022264"
      },
      "outputs": [
        {
          "output_type": "execute_result",
          "data": {
            "text/plain": [
              "                      Event             White            Black Result  \\\n",
              "21        Blitz tournament            Axel15l  cavaleirobranco   draw   \n",
              "54        Blitz tournament            MiKoS89             Cian   draw   \n",
              "77                   Blitz   invinciblegooner        GurgenONE   draw   \n",
              "78                  Bullet           Ivan2610        eustahije   draw   \n",
              "101              Classical            Matteom         nexmax85   draw   \n",
              "...                     ...               ...              ...    ...   \n",
              "6255971              Blitz        JuicyKnight          Campelo   draw   \n",
              "6255976              Blitz                mmz    AlbertoXadrez   draw   \n",
              "6256064             Bullet      luis_alfredop    AlexisArsenal   draw   \n",
              "6256119              Blitz          cesarpr78   RussellHudgins   draw   \n",
              "6256174              Blitz      PedroJimenezz     Dayrojimenez   draw   \n",
              "\n",
              "            UTCDate   UTCTime  WhiteElo  BlackElo  WhiteRatingDiff  \\\n",
              "21       2016.06.30  22:00:02    1512.0    1570.0              6.0   \n",
              "54       2016.06.30  22:00:02    1465.0    1436.0             -1.0   \n",
              "77       2016.06.30  22:00:07    1665.0    1765.0              2.0   \n",
              "78       2016.06.30  22:00:10    1595.0    1673.0              3.0   \n",
              "101      2016.06.30  22:00:15    1511.0    1621.0              4.0   \n",
              "...             ...       ...       ...       ...              ...   \n",
              "6255971  2016.07.31  21:58:30    2235.0    2209.0             -1.0   \n",
              "6255976  2016.07.31  21:58:32    2045.0    1999.0             -1.0   \n",
              "6256064  2016.07.31  21:59:13    2278.0    2193.0             -2.0   \n",
              "6256119  2016.07.31  21:59:34    1725.0    1554.0             -4.0   \n",
              "6256174  2016.07.31  21:59:55    1589.0    1615.0              1.0   \n",
              "\n",
              "         BlackRatingDiff  ECO  \\\n",
              "21                  -2.0  C62   \n",
              "54                   1.0  C45   \n",
              "77                  -3.0  C55   \n",
              "78                  -2.0  C02   \n",
              "101                 -3.0  C23   \n",
              "...                  ...  ...   \n",
              "6255971              1.0  A16   \n",
              "6255976              1.0  C01   \n",
              "6256064              2.0  E20   \n",
              "6256119              5.0  D00   \n",
              "6256174             -1.0  C45   \n",
              "\n",
              "                                                   Opening TimeControl  \\\n",
              "21                             Ruy Lopez: Steinitz Defense       300+0   \n",
              "54          Scotch Game: Scotch Gambit, Kingside Variation       300+0   \n",
              "77                  Italian Game: Anti-Fried Liver Defense       300+0   \n",
              "78       French Defense: Advance Variation, Nimzowitsch...        60+2   \n",
              "101                                       Bishop's Opening       300+5   \n",
              "...                                                    ...         ...   \n",
              "6255971  English Opening: Anglo-Indian Defense, Queen's...       180+2   \n",
              "6255976                 French Defense: Exchange Variation       300+0   \n",
              "6256064                            Nimzo-Indian Defense #2        60+0   \n",
              "6256119                                  Queen's Pawn Game       180+3   \n",
              "6256174                                        Scotch Game       420+0   \n",
              "\n",
              "          Termination                                                 AN  \n",
              "21             Normal  1. e4 e5 2. Nf3 Nc6 3. Bb5 d6 4. Bxc6+ bxc6 5....  \n",
              "54             Normal  1. e4 e5 2. Nf3 Nc6 3. d4 exd4 4. Bc4 Nf6 5. e...  \n",
              "77             Normal  1. e4 e5 2. Nf3 Nc6 3. Bc4 h6 4. d3 Nf6 5. Nc3...  \n",
              "78             Normal  1. e4 e6 2. e5 d5 3. d4 c5 4. Nf3 Qb6 5. dxc5 ...  \n",
              "101            Normal  1. e4 e5 2. Bc4 Nc6 3. d3 Nf6 4. a3 Be7 5. h3 ...  \n",
              "...               ...                                                ...  \n",
              "6255971        Normal  1. c4 Nf6 2. Nc3 g6 3. g3 Bg7 4. Bg2 d6 5. Nf3...  \n",
              "6255976  Time forfeit  1. e4 e6 2. d4 d5 3. exd5 exd5 4. Be3 Nf6 5. N...  \n",
              "6256064        Normal  1. d4 Nf6 2. c4 e6 3. Nc3 b6 4. Qc2 d6 5. e4 N...  \n",
              "6256119        Normal  1. d4 d5 2. h3 Nf6 3. a3 Nc6 4. e3 Bf5 5. Nf3 ...  \n",
              "6256174        Normal  1. e4 e5 2. Nf3 Nc6 3. d4 exd4 4. Nxd4 Nxd4 5....  \n",
              "\n",
              "[238763 rows x 15 columns]"
            ],
            "text/html": [
              "\n",
              "  <div id=\"df-69e6d92c-c7f4-4bb2-8632-f748b60ad218\">\n",
              "    <div class=\"colab-df-container\">\n",
              "      <div>\n",
              "<style scoped>\n",
              "    .dataframe tbody tr th:only-of-type {\n",
              "        vertical-align: middle;\n",
              "    }\n",
              "\n",
              "    .dataframe tbody tr th {\n",
              "        vertical-align: top;\n",
              "    }\n",
              "\n",
              "    .dataframe thead th {\n",
              "        text-align: right;\n",
              "    }\n",
              "</style>\n",
              "<table border=\"1\" class=\"dataframe\">\n",
              "  <thead>\n",
              "    <tr style=\"text-align: right;\">\n",
              "      <th></th>\n",
              "      <th>Event</th>\n",
              "      <th>White</th>\n",
              "      <th>Black</th>\n",
              "      <th>Result</th>\n",
              "      <th>UTCDate</th>\n",
              "      <th>UTCTime</th>\n",
              "      <th>WhiteElo</th>\n",
              "      <th>BlackElo</th>\n",
              "      <th>WhiteRatingDiff</th>\n",
              "      <th>BlackRatingDiff</th>\n",
              "      <th>ECO</th>\n",
              "      <th>Opening</th>\n",
              "      <th>TimeControl</th>\n",
              "      <th>Termination</th>\n",
              "      <th>AN</th>\n",
              "    </tr>\n",
              "  </thead>\n",
              "  <tbody>\n",
              "    <tr>\n",
              "      <th>21</th>\n",
              "      <td>Blitz tournament</td>\n",
              "      <td>Axel15l</td>\n",
              "      <td>cavaleirobranco</td>\n",
              "      <td>draw</td>\n",
              "      <td>2016.06.30</td>\n",
              "      <td>22:00:02</td>\n",
              "      <td>1512.0</td>\n",
              "      <td>1570.0</td>\n",
              "      <td>6.0</td>\n",
              "      <td>-2.0</td>\n",
              "      <td>C62</td>\n",
              "      <td>Ruy Lopez: Steinitz Defense</td>\n",
              "      <td>300+0</td>\n",
              "      <td>Normal</td>\n",
              "      <td>1. e4 e5 2. Nf3 Nc6 3. Bb5 d6 4. Bxc6+ bxc6 5....</td>\n",
              "    </tr>\n",
              "    <tr>\n",
              "      <th>54</th>\n",
              "      <td>Blitz tournament</td>\n",
              "      <td>MiKoS89</td>\n",
              "      <td>Cian</td>\n",
              "      <td>draw</td>\n",
              "      <td>2016.06.30</td>\n",
              "      <td>22:00:02</td>\n",
              "      <td>1465.0</td>\n",
              "      <td>1436.0</td>\n",
              "      <td>-1.0</td>\n",
              "      <td>1.0</td>\n",
              "      <td>C45</td>\n",
              "      <td>Scotch Game: Scotch Gambit, Kingside Variation</td>\n",
              "      <td>300+0</td>\n",
              "      <td>Normal</td>\n",
              "      <td>1. e4 e5 2. Nf3 Nc6 3. d4 exd4 4. Bc4 Nf6 5. e...</td>\n",
              "    </tr>\n",
              "    <tr>\n",
              "      <th>77</th>\n",
              "      <td>Blitz</td>\n",
              "      <td>invinciblegooner</td>\n",
              "      <td>GurgenONE</td>\n",
              "      <td>draw</td>\n",
              "      <td>2016.06.30</td>\n",
              "      <td>22:00:07</td>\n",
              "      <td>1665.0</td>\n",
              "      <td>1765.0</td>\n",
              "      <td>2.0</td>\n",
              "      <td>-3.0</td>\n",
              "      <td>C55</td>\n",
              "      <td>Italian Game: Anti-Fried Liver Defense</td>\n",
              "      <td>300+0</td>\n",
              "      <td>Normal</td>\n",
              "      <td>1. e4 e5 2. Nf3 Nc6 3. Bc4 h6 4. d3 Nf6 5. Nc3...</td>\n",
              "    </tr>\n",
              "    <tr>\n",
              "      <th>78</th>\n",
              "      <td>Bullet</td>\n",
              "      <td>Ivan2610</td>\n",
              "      <td>eustahije</td>\n",
              "      <td>draw</td>\n",
              "      <td>2016.06.30</td>\n",
              "      <td>22:00:10</td>\n",
              "      <td>1595.0</td>\n",
              "      <td>1673.0</td>\n",
              "      <td>3.0</td>\n",
              "      <td>-2.0</td>\n",
              "      <td>C02</td>\n",
              "      <td>French Defense: Advance Variation, Nimzowitsch...</td>\n",
              "      <td>60+2</td>\n",
              "      <td>Normal</td>\n",
              "      <td>1. e4 e6 2. e5 d5 3. d4 c5 4. Nf3 Qb6 5. dxc5 ...</td>\n",
              "    </tr>\n",
              "    <tr>\n",
              "      <th>101</th>\n",
              "      <td>Classical</td>\n",
              "      <td>Matteom</td>\n",
              "      <td>nexmax85</td>\n",
              "      <td>draw</td>\n",
              "      <td>2016.06.30</td>\n",
              "      <td>22:00:15</td>\n",
              "      <td>1511.0</td>\n",
              "      <td>1621.0</td>\n",
              "      <td>4.0</td>\n",
              "      <td>-3.0</td>\n",
              "      <td>C23</td>\n",
              "      <td>Bishop's Opening</td>\n",
              "      <td>300+5</td>\n",
              "      <td>Normal</td>\n",
              "      <td>1. e4 e5 2. Bc4 Nc6 3. d3 Nf6 4. a3 Be7 5. h3 ...</td>\n",
              "    </tr>\n",
              "    <tr>\n",
              "      <th>...</th>\n",
              "      <td>...</td>\n",
              "      <td>...</td>\n",
              "      <td>...</td>\n",
              "      <td>...</td>\n",
              "      <td>...</td>\n",
              "      <td>...</td>\n",
              "      <td>...</td>\n",
              "      <td>...</td>\n",
              "      <td>...</td>\n",
              "      <td>...</td>\n",
              "      <td>...</td>\n",
              "      <td>...</td>\n",
              "      <td>...</td>\n",
              "      <td>...</td>\n",
              "      <td>...</td>\n",
              "    </tr>\n",
              "    <tr>\n",
              "      <th>6255971</th>\n",
              "      <td>Blitz</td>\n",
              "      <td>JuicyKnight</td>\n",
              "      <td>Campelo</td>\n",
              "      <td>draw</td>\n",
              "      <td>2016.07.31</td>\n",
              "      <td>21:58:30</td>\n",
              "      <td>2235.0</td>\n",
              "      <td>2209.0</td>\n",
              "      <td>-1.0</td>\n",
              "      <td>1.0</td>\n",
              "      <td>A16</td>\n",
              "      <td>English Opening: Anglo-Indian Defense, Queen's...</td>\n",
              "      <td>180+2</td>\n",
              "      <td>Normal</td>\n",
              "      <td>1. c4 Nf6 2. Nc3 g6 3. g3 Bg7 4. Bg2 d6 5. Nf3...</td>\n",
              "    </tr>\n",
              "    <tr>\n",
              "      <th>6255976</th>\n",
              "      <td>Blitz</td>\n",
              "      <td>mmz</td>\n",
              "      <td>AlbertoXadrez</td>\n",
              "      <td>draw</td>\n",
              "      <td>2016.07.31</td>\n",
              "      <td>21:58:32</td>\n",
              "      <td>2045.0</td>\n",
              "      <td>1999.0</td>\n",
              "      <td>-1.0</td>\n",
              "      <td>1.0</td>\n",
              "      <td>C01</td>\n",
              "      <td>French Defense: Exchange Variation</td>\n",
              "      <td>300+0</td>\n",
              "      <td>Time forfeit</td>\n",
              "      <td>1. e4 e6 2. d4 d5 3. exd5 exd5 4. Be3 Nf6 5. N...</td>\n",
              "    </tr>\n",
              "    <tr>\n",
              "      <th>6256064</th>\n",
              "      <td>Bullet</td>\n",
              "      <td>luis_alfredop</td>\n",
              "      <td>AlexisArsenal</td>\n",
              "      <td>draw</td>\n",
              "      <td>2016.07.31</td>\n",
              "      <td>21:59:13</td>\n",
              "      <td>2278.0</td>\n",
              "      <td>2193.0</td>\n",
              "      <td>-2.0</td>\n",
              "      <td>2.0</td>\n",
              "      <td>E20</td>\n",
              "      <td>Nimzo-Indian Defense #2</td>\n",
              "      <td>60+0</td>\n",
              "      <td>Normal</td>\n",
              "      <td>1. d4 Nf6 2. c4 e6 3. Nc3 b6 4. Qc2 d6 5. e4 N...</td>\n",
              "    </tr>\n",
              "    <tr>\n",
              "      <th>6256119</th>\n",
              "      <td>Blitz</td>\n",
              "      <td>cesarpr78</td>\n",
              "      <td>RussellHudgins</td>\n",
              "      <td>draw</td>\n",
              "      <td>2016.07.31</td>\n",
              "      <td>21:59:34</td>\n",
              "      <td>1725.0</td>\n",
              "      <td>1554.0</td>\n",
              "      <td>-4.0</td>\n",
              "      <td>5.0</td>\n",
              "      <td>D00</td>\n",
              "      <td>Queen's Pawn Game</td>\n",
              "      <td>180+3</td>\n",
              "      <td>Normal</td>\n",
              "      <td>1. d4 d5 2. h3 Nf6 3. a3 Nc6 4. e3 Bf5 5. Nf3 ...</td>\n",
              "    </tr>\n",
              "    <tr>\n",
              "      <th>6256174</th>\n",
              "      <td>Blitz</td>\n",
              "      <td>PedroJimenezz</td>\n",
              "      <td>Dayrojimenez</td>\n",
              "      <td>draw</td>\n",
              "      <td>2016.07.31</td>\n",
              "      <td>21:59:55</td>\n",
              "      <td>1589.0</td>\n",
              "      <td>1615.0</td>\n",
              "      <td>1.0</td>\n",
              "      <td>-1.0</td>\n",
              "      <td>C45</td>\n",
              "      <td>Scotch Game</td>\n",
              "      <td>420+0</td>\n",
              "      <td>Normal</td>\n",
              "      <td>1. e4 e5 2. Nf3 Nc6 3. d4 exd4 4. Nxd4 Nxd4 5....</td>\n",
              "    </tr>\n",
              "  </tbody>\n",
              "</table>\n",
              "<p>238763 rows × 15 columns</p>\n",
              "</div>\n",
              "      <button class=\"colab-df-convert\" onclick=\"convertToInteractive('df-69e6d92c-c7f4-4bb2-8632-f748b60ad218')\"\n",
              "              title=\"Convert this dataframe to an interactive table.\"\n",
              "              style=\"display:none;\">\n",
              "        \n",
              "  <svg xmlns=\"http://www.w3.org/2000/svg\" height=\"24px\"viewBox=\"0 0 24 24\"\n",
              "       width=\"24px\">\n",
              "    <path d=\"M0 0h24v24H0V0z\" fill=\"none\"/>\n",
              "    <path d=\"M18.56 5.44l.94 2.06.94-2.06 2.06-.94-2.06-.94-.94-2.06-.94 2.06-2.06.94zm-11 1L8.5 8.5l.94-2.06 2.06-.94-2.06-.94L8.5 2.5l-.94 2.06-2.06.94zm10 10l.94 2.06.94-2.06 2.06-.94-2.06-.94-.94-2.06-.94 2.06-2.06.94z\"/><path d=\"M17.41 7.96l-1.37-1.37c-.4-.4-.92-.59-1.43-.59-.52 0-1.04.2-1.43.59L10.3 9.45l-7.72 7.72c-.78.78-.78 2.05 0 2.83L4 21.41c.39.39.9.59 1.41.59.51 0 1.02-.2 1.41-.59l7.78-7.78 2.81-2.81c.8-.78.8-2.07 0-2.86zM5.41 20L4 18.59l7.72-7.72 1.47 1.35L5.41 20z\"/>\n",
              "  </svg>\n",
              "      </button>\n",
              "      \n",
              "  <style>\n",
              "    .colab-df-container {\n",
              "      display:flex;\n",
              "      flex-wrap:wrap;\n",
              "      gap: 12px;\n",
              "    }\n",
              "\n",
              "    .colab-df-convert {\n",
              "      background-color: #E8F0FE;\n",
              "      border: none;\n",
              "      border-radius: 50%;\n",
              "      cursor: pointer;\n",
              "      display: none;\n",
              "      fill: #1967D2;\n",
              "      height: 32px;\n",
              "      padding: 0 0 0 0;\n",
              "      width: 32px;\n",
              "    }\n",
              "\n",
              "    .colab-df-convert:hover {\n",
              "      background-color: #E2EBFA;\n",
              "      box-shadow: 0px 1px 2px rgba(60, 64, 67, 0.3), 0px 1px 3px 1px rgba(60, 64, 67, 0.15);\n",
              "      fill: #174EA6;\n",
              "    }\n",
              "\n",
              "    [theme=dark] .colab-df-convert {\n",
              "      background-color: #3B4455;\n",
              "      fill: #D2E3FC;\n",
              "    }\n",
              "\n",
              "    [theme=dark] .colab-df-convert:hover {\n",
              "      background-color: #434B5C;\n",
              "      box-shadow: 0px 1px 3px 1px rgba(0, 0, 0, 0.15);\n",
              "      filter: drop-shadow(0px 1px 2px rgba(0, 0, 0, 0.3));\n",
              "      fill: #FFFFFF;\n",
              "    }\n",
              "  </style>\n",
              "\n",
              "      <script>\n",
              "        const buttonEl =\n",
              "          document.querySelector('#df-69e6d92c-c7f4-4bb2-8632-f748b60ad218 button.colab-df-convert');\n",
              "        buttonEl.style.display =\n",
              "          google.colab.kernel.accessAllowed ? 'block' : 'none';\n",
              "\n",
              "        async function convertToInteractive(key) {\n",
              "          const element = document.querySelector('#df-69e6d92c-c7f4-4bb2-8632-f748b60ad218');\n",
              "          const dataTable =\n",
              "            await google.colab.kernel.invokeFunction('convertToInteractive',\n",
              "                                                     [key], {});\n",
              "          if (!dataTable) return;\n",
              "\n",
              "          const docLinkHtml = 'Like what you see? Visit the ' +\n",
              "            '<a target=\"_blank\" href=https://colab.research.google.com/notebooks/data_table.ipynb>data table notebook</a>'\n",
              "            + ' to learn more about interactive tables.';\n",
              "          element.innerHTML = '';\n",
              "          dataTable['output_type'] = 'display_data';\n",
              "          await google.colab.output.renderOutput(dataTable, element);\n",
              "          const docLink = document.createElement('div');\n",
              "          docLink.innerHTML = docLinkHtml;\n",
              "          element.appendChild(docLink);\n",
              "        }\n",
              "      </script>\n",
              "    </div>\n",
              "  </div>\n",
              "  "
            ]
          },
          "metadata": {},
          "execution_count": 15
        }
      ],
      "source": [
        "df[\"Result\"] = df[\"Result\"].replace(['1/2-1/2'], \"draw\")\n",
        "filter = df[\"Result\"]==\"draw\"\n",
        "df.where(filter).dropna()"
      ]
    },
    {
      "cell_type": "code",
      "execution_count": null,
      "metadata": {
        "colab": {
          "base_uri": "https://localhost:8080/",
          "height": 694
        },
        "id": "bbtCxmgYHNtU",
        "outputId": "3f28b047-a60c-4952-e0ca-a4de72d2567d"
      },
      "outputs": [
        {
          "output_type": "execute_result",
          "data": {
            "text/plain": [
              "                      Event       White       Black      Result     UTCDate  \\\n",
              "850980    Blitz tournament   gvad202020   EireGoDeo  undeclared  2016.07.05   \n",
              "2413351             Bullet       LDago1    tvarhand  undeclared  2016.07.13   \n",
              "4876419             Bullet     karalyte  troterocom  undeclared  2016.07.25   \n",
              "\n",
              "          UTCTime  WhiteElo  BlackElo  WhiteRatingDiff  BlackRatingDiff  ECO  \\\n",
              "850980   06:32:15    1956.0    1800.0            -12.0             12.0  B54   \n",
              "2413351  00:14:57    2181.0    2143.0            -12.0             12.0  A41   \n",
              "4876419  09:33:16    1586.0    1774.0             -6.0              7.0  A00   \n",
              "\n",
              "                                            Opening TimeControl Termination  \\\n",
              "850980                          Sicilian Defense #2       300+0   Abandoned   \n",
              "2413351                                Queen's Pawn       120+0   Abandoned   \n",
              "4876419  Creepy Crawly Formation: Classical Defense        60+0   Abandoned   \n",
              "\n",
              "                                                        AN  \n",
              "850980   1. e4 c5 2. Nf3 d6 3. d4 cxd4 4. Nxd4 e5 5. Nb...  \n",
              "2413351  1. d4 d6 2. Nf3 g6 3. c3 Bg7 4. Bf4 Nc6 5. d5 ...  \n",
              "4876419  1. a3 d5 2. h3 e5 3. Nf3 e4 4. Nd4 c5 5. Nb3 N...  "
            ],
            "text/html": [
              "\n",
              "  <div id=\"df-8f25ebe2-403a-412c-9749-1fba39a1fe14\">\n",
              "    <div class=\"colab-df-container\">\n",
              "      <div>\n",
              "<style scoped>\n",
              "    .dataframe tbody tr th:only-of-type {\n",
              "        vertical-align: middle;\n",
              "    }\n",
              "\n",
              "    .dataframe tbody tr th {\n",
              "        vertical-align: top;\n",
              "    }\n",
              "\n",
              "    .dataframe thead th {\n",
              "        text-align: right;\n",
              "    }\n",
              "</style>\n",
              "<table border=\"1\" class=\"dataframe\">\n",
              "  <thead>\n",
              "    <tr style=\"text-align: right;\">\n",
              "      <th></th>\n",
              "      <th>Event</th>\n",
              "      <th>White</th>\n",
              "      <th>Black</th>\n",
              "      <th>Result</th>\n",
              "      <th>UTCDate</th>\n",
              "      <th>UTCTime</th>\n",
              "      <th>WhiteElo</th>\n",
              "      <th>BlackElo</th>\n",
              "      <th>WhiteRatingDiff</th>\n",
              "      <th>BlackRatingDiff</th>\n",
              "      <th>ECO</th>\n",
              "      <th>Opening</th>\n",
              "      <th>TimeControl</th>\n",
              "      <th>Termination</th>\n",
              "      <th>AN</th>\n",
              "    </tr>\n",
              "  </thead>\n",
              "  <tbody>\n",
              "    <tr>\n",
              "      <th>850980</th>\n",
              "      <td>Blitz tournament</td>\n",
              "      <td>gvad202020</td>\n",
              "      <td>EireGoDeo</td>\n",
              "      <td>undeclared</td>\n",
              "      <td>2016.07.05</td>\n",
              "      <td>06:32:15</td>\n",
              "      <td>1956.0</td>\n",
              "      <td>1800.0</td>\n",
              "      <td>-12.0</td>\n",
              "      <td>12.0</td>\n",
              "      <td>B54</td>\n",
              "      <td>Sicilian Defense #2</td>\n",
              "      <td>300+0</td>\n",
              "      <td>Abandoned</td>\n",
              "      <td>1. e4 c5 2. Nf3 d6 3. d4 cxd4 4. Nxd4 e5 5. Nb...</td>\n",
              "    </tr>\n",
              "    <tr>\n",
              "      <th>2413351</th>\n",
              "      <td>Bullet</td>\n",
              "      <td>LDago1</td>\n",
              "      <td>tvarhand</td>\n",
              "      <td>undeclared</td>\n",
              "      <td>2016.07.13</td>\n",
              "      <td>00:14:57</td>\n",
              "      <td>2181.0</td>\n",
              "      <td>2143.0</td>\n",
              "      <td>-12.0</td>\n",
              "      <td>12.0</td>\n",
              "      <td>A41</td>\n",
              "      <td>Queen's Pawn</td>\n",
              "      <td>120+0</td>\n",
              "      <td>Abandoned</td>\n",
              "      <td>1. d4 d6 2. Nf3 g6 3. c3 Bg7 4. Bf4 Nc6 5. d5 ...</td>\n",
              "    </tr>\n",
              "    <tr>\n",
              "      <th>4876419</th>\n",
              "      <td>Bullet</td>\n",
              "      <td>karalyte</td>\n",
              "      <td>troterocom</td>\n",
              "      <td>undeclared</td>\n",
              "      <td>2016.07.25</td>\n",
              "      <td>09:33:16</td>\n",
              "      <td>1586.0</td>\n",
              "      <td>1774.0</td>\n",
              "      <td>-6.0</td>\n",
              "      <td>7.0</td>\n",
              "      <td>A00</td>\n",
              "      <td>Creepy Crawly Formation: Classical Defense</td>\n",
              "      <td>60+0</td>\n",
              "      <td>Abandoned</td>\n",
              "      <td>1. a3 d5 2. h3 e5 3. Nf3 e4 4. Nd4 c5 5. Nb3 N...</td>\n",
              "    </tr>\n",
              "  </tbody>\n",
              "</table>\n",
              "</div>\n",
              "      <button class=\"colab-df-convert\" onclick=\"convertToInteractive('df-8f25ebe2-403a-412c-9749-1fba39a1fe14')\"\n",
              "              title=\"Convert this dataframe to an interactive table.\"\n",
              "              style=\"display:none;\">\n",
              "        \n",
              "  <svg xmlns=\"http://www.w3.org/2000/svg\" height=\"24px\"viewBox=\"0 0 24 24\"\n",
              "       width=\"24px\">\n",
              "    <path d=\"M0 0h24v24H0V0z\" fill=\"none\"/>\n",
              "    <path d=\"M18.56 5.44l.94 2.06.94-2.06 2.06-.94-2.06-.94-.94-2.06-.94 2.06-2.06.94zm-11 1L8.5 8.5l.94-2.06 2.06-.94-2.06-.94L8.5 2.5l-.94 2.06-2.06.94zm10 10l.94 2.06.94-2.06 2.06-.94-2.06-.94-.94-2.06-.94 2.06-2.06.94z\"/><path d=\"M17.41 7.96l-1.37-1.37c-.4-.4-.92-.59-1.43-.59-.52 0-1.04.2-1.43.59L10.3 9.45l-7.72 7.72c-.78.78-.78 2.05 0 2.83L4 21.41c.39.39.9.59 1.41.59.51 0 1.02-.2 1.41-.59l7.78-7.78 2.81-2.81c.8-.78.8-2.07 0-2.86zM5.41 20L4 18.59l7.72-7.72 1.47 1.35L5.41 20z\"/>\n",
              "  </svg>\n",
              "      </button>\n",
              "      \n",
              "  <style>\n",
              "    .colab-df-container {\n",
              "      display:flex;\n",
              "      flex-wrap:wrap;\n",
              "      gap: 12px;\n",
              "    }\n",
              "\n",
              "    .colab-df-convert {\n",
              "      background-color: #E8F0FE;\n",
              "      border: none;\n",
              "      border-radius: 50%;\n",
              "      cursor: pointer;\n",
              "      display: none;\n",
              "      fill: #1967D2;\n",
              "      height: 32px;\n",
              "      padding: 0 0 0 0;\n",
              "      width: 32px;\n",
              "    }\n",
              "\n",
              "    .colab-df-convert:hover {\n",
              "      background-color: #E2EBFA;\n",
              "      box-shadow: 0px 1px 2px rgba(60, 64, 67, 0.3), 0px 1px 3px 1px rgba(60, 64, 67, 0.15);\n",
              "      fill: #174EA6;\n",
              "    }\n",
              "\n",
              "    [theme=dark] .colab-df-convert {\n",
              "      background-color: #3B4455;\n",
              "      fill: #D2E3FC;\n",
              "    }\n",
              "\n",
              "    [theme=dark] .colab-df-convert:hover {\n",
              "      background-color: #434B5C;\n",
              "      box-shadow: 0px 1px 3px 1px rgba(0, 0, 0, 0.15);\n",
              "      filter: drop-shadow(0px 1px 2px rgba(0, 0, 0, 0.3));\n",
              "      fill: #FFFFFF;\n",
              "    }\n",
              "  </style>\n",
              "\n",
              "      <script>\n",
              "        const buttonEl =\n",
              "          document.querySelector('#df-8f25ebe2-403a-412c-9749-1fba39a1fe14 button.colab-df-convert');\n",
              "        buttonEl.style.display =\n",
              "          google.colab.kernel.accessAllowed ? 'block' : 'none';\n",
              "\n",
              "        async function convertToInteractive(key) {\n",
              "          const element = document.querySelector('#df-8f25ebe2-403a-412c-9749-1fba39a1fe14');\n",
              "          const dataTable =\n",
              "            await google.colab.kernel.invokeFunction('convertToInteractive',\n",
              "                                                     [key], {});\n",
              "          if (!dataTable) return;\n",
              "\n",
              "          const docLinkHtml = 'Like what you see? Visit the ' +\n",
              "            '<a target=\"_blank\" href=https://colab.research.google.com/notebooks/data_table.ipynb>data table notebook</a>'\n",
              "            + ' to learn more about interactive tables.';\n",
              "          element.innerHTML = '';\n",
              "          dataTable['output_type'] = 'display_data';\n",
              "          await google.colab.output.renderOutput(dataTable, element);\n",
              "          const docLink = document.createElement('div');\n",
              "          docLink.innerHTML = docLinkHtml;\n",
              "          element.appendChild(docLink);\n",
              "        }\n",
              "      </script>\n",
              "    </div>\n",
              "  </div>\n",
              "  "
            ]
          },
          "metadata": {},
          "execution_count": 16
        }
      ],
      "source": [
        "df[\"Result\"] = df[\"Result\"].replace(['*'], \"undeclared\")\n",
        "filter = df[\"Result\"]==\"undeclared\"\n",
        "df.where(filter).dropna()"
      ]
    },
    {
      "cell_type": "markdown",
      "source": [
        "1. The replace() method searches a string for a value or a regular expression. The replace() method returns a new string with the value(s) replaced. The replace() method does not change the original string.\n",
        "2. where() method is used to check a data frame for one or more condition and return the result accordingly\n",
        "3. dropna() is used to return values that are not null in the data frame"
      ],
      "metadata": {
        "id": "WtqpZ4CiKfpO"
      }
    },
    {
      "cell_type": "markdown",
      "metadata": {
        "id": "GX2_nSXELRUp"
      },
      "source": [
        "###percentage of missing values per column"
      ]
    },
    {
      "cell_type": "code",
      "execution_count": null,
      "metadata": {
        "id": "GUPwX8MwFWGG",
        "colab": {
          "base_uri": "https://localhost:8080/",
          "height": 488
        },
        "outputId": "e29d95c3-3046-4e69-e982-7c8bc2179c4f"
      },
      "outputs": [
        {
          "output_type": "execute_result",
          "data": {
            "text/plain": [
              "         Event  White  Black  Result  UTCDate  UTCTime  WhiteElo  BlackElo  \\\n",
              "0        False  False  False   False    False    False     False     False   \n",
              "1        False  False  False   False    False    False     False     False   \n",
              "2        False  False  False   False    False    False     False     False   \n",
              "3        False  False  False   False    False    False     False     False   \n",
              "4        False  False  False   False    False    False     False     False   \n",
              "...        ...    ...    ...     ...      ...      ...       ...       ...   \n",
              "6256179  False  False  False   False    False    False     False     False   \n",
              "6256180  False  False  False   False    False    False     False     False   \n",
              "6256181  False  False  False   False    False    False     False     False   \n",
              "6256182  False  False  False   False    False    False     False     False   \n",
              "6256183  False  False  False   False    False    False     False     False   \n",
              "\n",
              "         WhiteRatingDiff  BlackRatingDiff    ECO  Opening  TimeControl  \\\n",
              "0                  False            False  False    False        False   \n",
              "1                  False            False  False    False        False   \n",
              "2                  False            False  False    False        False   \n",
              "3                  False            False  False    False        False   \n",
              "4                  False            False  False    False        False   \n",
              "...                  ...              ...    ...      ...          ...   \n",
              "6256179            False            False  False    False        False   \n",
              "6256180            False            False  False    False        False   \n",
              "6256181            False            False  False    False        False   \n",
              "6256182            False            False  False    False        False   \n",
              "6256183            False            False  False    False        False   \n",
              "\n",
              "         Termination     AN  \n",
              "0              False  False  \n",
              "1              False  False  \n",
              "2              False  False  \n",
              "3              False  False  \n",
              "4              False  False  \n",
              "...              ...    ...  \n",
              "6256179        False  False  \n",
              "6256180        False  False  \n",
              "6256181        False  False  \n",
              "6256182        False  False  \n",
              "6256183        False  False  \n",
              "\n",
              "[6256184 rows x 15 columns]"
            ],
            "text/html": [
              "\n",
              "  <div id=\"df-554c4877-315a-47b6-bec8-a449779986f9\">\n",
              "    <div class=\"colab-df-container\">\n",
              "      <div>\n",
              "<style scoped>\n",
              "    .dataframe tbody tr th:only-of-type {\n",
              "        vertical-align: middle;\n",
              "    }\n",
              "\n",
              "    .dataframe tbody tr th {\n",
              "        vertical-align: top;\n",
              "    }\n",
              "\n",
              "    .dataframe thead th {\n",
              "        text-align: right;\n",
              "    }\n",
              "</style>\n",
              "<table border=\"1\" class=\"dataframe\">\n",
              "  <thead>\n",
              "    <tr style=\"text-align: right;\">\n",
              "      <th></th>\n",
              "      <th>Event</th>\n",
              "      <th>White</th>\n",
              "      <th>Black</th>\n",
              "      <th>Result</th>\n",
              "      <th>UTCDate</th>\n",
              "      <th>UTCTime</th>\n",
              "      <th>WhiteElo</th>\n",
              "      <th>BlackElo</th>\n",
              "      <th>WhiteRatingDiff</th>\n",
              "      <th>BlackRatingDiff</th>\n",
              "      <th>ECO</th>\n",
              "      <th>Opening</th>\n",
              "      <th>TimeControl</th>\n",
              "      <th>Termination</th>\n",
              "      <th>AN</th>\n",
              "    </tr>\n",
              "  </thead>\n",
              "  <tbody>\n",
              "    <tr>\n",
              "      <th>0</th>\n",
              "      <td>False</td>\n",
              "      <td>False</td>\n",
              "      <td>False</td>\n",
              "      <td>False</td>\n",
              "      <td>False</td>\n",
              "      <td>False</td>\n",
              "      <td>False</td>\n",
              "      <td>False</td>\n",
              "      <td>False</td>\n",
              "      <td>False</td>\n",
              "      <td>False</td>\n",
              "      <td>False</td>\n",
              "      <td>False</td>\n",
              "      <td>False</td>\n",
              "      <td>False</td>\n",
              "    </tr>\n",
              "    <tr>\n",
              "      <th>1</th>\n",
              "      <td>False</td>\n",
              "      <td>False</td>\n",
              "      <td>False</td>\n",
              "      <td>False</td>\n",
              "      <td>False</td>\n",
              "      <td>False</td>\n",
              "      <td>False</td>\n",
              "      <td>False</td>\n",
              "      <td>False</td>\n",
              "      <td>False</td>\n",
              "      <td>False</td>\n",
              "      <td>False</td>\n",
              "      <td>False</td>\n",
              "      <td>False</td>\n",
              "      <td>False</td>\n",
              "    </tr>\n",
              "    <tr>\n",
              "      <th>2</th>\n",
              "      <td>False</td>\n",
              "      <td>False</td>\n",
              "      <td>False</td>\n",
              "      <td>False</td>\n",
              "      <td>False</td>\n",
              "      <td>False</td>\n",
              "      <td>False</td>\n",
              "      <td>False</td>\n",
              "      <td>False</td>\n",
              "      <td>False</td>\n",
              "      <td>False</td>\n",
              "      <td>False</td>\n",
              "      <td>False</td>\n",
              "      <td>False</td>\n",
              "      <td>False</td>\n",
              "    </tr>\n",
              "    <tr>\n",
              "      <th>3</th>\n",
              "      <td>False</td>\n",
              "      <td>False</td>\n",
              "      <td>False</td>\n",
              "      <td>False</td>\n",
              "      <td>False</td>\n",
              "      <td>False</td>\n",
              "      <td>False</td>\n",
              "      <td>False</td>\n",
              "      <td>False</td>\n",
              "      <td>False</td>\n",
              "      <td>False</td>\n",
              "      <td>False</td>\n",
              "      <td>False</td>\n",
              "      <td>False</td>\n",
              "      <td>False</td>\n",
              "    </tr>\n",
              "    <tr>\n",
              "      <th>4</th>\n",
              "      <td>False</td>\n",
              "      <td>False</td>\n",
              "      <td>False</td>\n",
              "      <td>False</td>\n",
              "      <td>False</td>\n",
              "      <td>False</td>\n",
              "      <td>False</td>\n",
              "      <td>False</td>\n",
              "      <td>False</td>\n",
              "      <td>False</td>\n",
              "      <td>False</td>\n",
              "      <td>False</td>\n",
              "      <td>False</td>\n",
              "      <td>False</td>\n",
              "      <td>False</td>\n",
              "    </tr>\n",
              "    <tr>\n",
              "      <th>...</th>\n",
              "      <td>...</td>\n",
              "      <td>...</td>\n",
              "      <td>...</td>\n",
              "      <td>...</td>\n",
              "      <td>...</td>\n",
              "      <td>...</td>\n",
              "      <td>...</td>\n",
              "      <td>...</td>\n",
              "      <td>...</td>\n",
              "      <td>...</td>\n",
              "      <td>...</td>\n",
              "      <td>...</td>\n",
              "      <td>...</td>\n",
              "      <td>...</td>\n",
              "      <td>...</td>\n",
              "    </tr>\n",
              "    <tr>\n",
              "      <th>6256179</th>\n",
              "      <td>False</td>\n",
              "      <td>False</td>\n",
              "      <td>False</td>\n",
              "      <td>False</td>\n",
              "      <td>False</td>\n",
              "      <td>False</td>\n",
              "      <td>False</td>\n",
              "      <td>False</td>\n",
              "      <td>False</td>\n",
              "      <td>False</td>\n",
              "      <td>False</td>\n",
              "      <td>False</td>\n",
              "      <td>False</td>\n",
              "      <td>False</td>\n",
              "      <td>False</td>\n",
              "    </tr>\n",
              "    <tr>\n",
              "      <th>6256180</th>\n",
              "      <td>False</td>\n",
              "      <td>False</td>\n",
              "      <td>False</td>\n",
              "      <td>False</td>\n",
              "      <td>False</td>\n",
              "      <td>False</td>\n",
              "      <td>False</td>\n",
              "      <td>False</td>\n",
              "      <td>False</td>\n",
              "      <td>False</td>\n",
              "      <td>False</td>\n",
              "      <td>False</td>\n",
              "      <td>False</td>\n",
              "      <td>False</td>\n",
              "      <td>False</td>\n",
              "    </tr>\n",
              "    <tr>\n",
              "      <th>6256181</th>\n",
              "      <td>False</td>\n",
              "      <td>False</td>\n",
              "      <td>False</td>\n",
              "      <td>False</td>\n",
              "      <td>False</td>\n",
              "      <td>False</td>\n",
              "      <td>False</td>\n",
              "      <td>False</td>\n",
              "      <td>False</td>\n",
              "      <td>False</td>\n",
              "      <td>False</td>\n",
              "      <td>False</td>\n",
              "      <td>False</td>\n",
              "      <td>False</td>\n",
              "      <td>False</td>\n",
              "    </tr>\n",
              "    <tr>\n",
              "      <th>6256182</th>\n",
              "      <td>False</td>\n",
              "      <td>False</td>\n",
              "      <td>False</td>\n",
              "      <td>False</td>\n",
              "      <td>False</td>\n",
              "      <td>False</td>\n",
              "      <td>False</td>\n",
              "      <td>False</td>\n",
              "      <td>False</td>\n",
              "      <td>False</td>\n",
              "      <td>False</td>\n",
              "      <td>False</td>\n",
              "      <td>False</td>\n",
              "      <td>False</td>\n",
              "      <td>False</td>\n",
              "    </tr>\n",
              "    <tr>\n",
              "      <th>6256183</th>\n",
              "      <td>False</td>\n",
              "      <td>False</td>\n",
              "      <td>False</td>\n",
              "      <td>False</td>\n",
              "      <td>False</td>\n",
              "      <td>False</td>\n",
              "      <td>False</td>\n",
              "      <td>False</td>\n",
              "      <td>False</td>\n",
              "      <td>False</td>\n",
              "      <td>False</td>\n",
              "      <td>False</td>\n",
              "      <td>False</td>\n",
              "      <td>False</td>\n",
              "      <td>False</td>\n",
              "    </tr>\n",
              "  </tbody>\n",
              "</table>\n",
              "<p>6256184 rows × 15 columns</p>\n",
              "</div>\n",
              "      <button class=\"colab-df-convert\" onclick=\"convertToInteractive('df-554c4877-315a-47b6-bec8-a449779986f9')\"\n",
              "              title=\"Convert this dataframe to an interactive table.\"\n",
              "              style=\"display:none;\">\n",
              "        \n",
              "  <svg xmlns=\"http://www.w3.org/2000/svg\" height=\"24px\"viewBox=\"0 0 24 24\"\n",
              "       width=\"24px\">\n",
              "    <path d=\"M0 0h24v24H0V0z\" fill=\"none\"/>\n",
              "    <path d=\"M18.56 5.44l.94 2.06.94-2.06 2.06-.94-2.06-.94-.94-2.06-.94 2.06-2.06.94zm-11 1L8.5 8.5l.94-2.06 2.06-.94-2.06-.94L8.5 2.5l-.94 2.06-2.06.94zm10 10l.94 2.06.94-2.06 2.06-.94-2.06-.94-.94-2.06-.94 2.06-2.06.94z\"/><path d=\"M17.41 7.96l-1.37-1.37c-.4-.4-.92-.59-1.43-.59-.52 0-1.04.2-1.43.59L10.3 9.45l-7.72 7.72c-.78.78-.78 2.05 0 2.83L4 21.41c.39.39.9.59 1.41.59.51 0 1.02-.2 1.41-.59l7.78-7.78 2.81-2.81c.8-.78.8-2.07 0-2.86zM5.41 20L4 18.59l7.72-7.72 1.47 1.35L5.41 20z\"/>\n",
              "  </svg>\n",
              "      </button>\n",
              "      \n",
              "  <style>\n",
              "    .colab-df-container {\n",
              "      display:flex;\n",
              "      flex-wrap:wrap;\n",
              "      gap: 12px;\n",
              "    }\n",
              "\n",
              "    .colab-df-convert {\n",
              "      background-color: #E8F0FE;\n",
              "      border: none;\n",
              "      border-radius: 50%;\n",
              "      cursor: pointer;\n",
              "      display: none;\n",
              "      fill: #1967D2;\n",
              "      height: 32px;\n",
              "      padding: 0 0 0 0;\n",
              "      width: 32px;\n",
              "    }\n",
              "\n",
              "    .colab-df-convert:hover {\n",
              "      background-color: #E2EBFA;\n",
              "      box-shadow: 0px 1px 2px rgba(60, 64, 67, 0.3), 0px 1px 3px 1px rgba(60, 64, 67, 0.15);\n",
              "      fill: #174EA6;\n",
              "    }\n",
              "\n",
              "    [theme=dark] .colab-df-convert {\n",
              "      background-color: #3B4455;\n",
              "      fill: #D2E3FC;\n",
              "    }\n",
              "\n",
              "    [theme=dark] .colab-df-convert:hover {\n",
              "      background-color: #434B5C;\n",
              "      box-shadow: 0px 1px 3px 1px rgba(0, 0, 0, 0.15);\n",
              "      filter: drop-shadow(0px 1px 2px rgba(0, 0, 0, 0.3));\n",
              "      fill: #FFFFFF;\n",
              "    }\n",
              "  </style>\n",
              "\n",
              "      <script>\n",
              "        const buttonEl =\n",
              "          document.querySelector('#df-554c4877-315a-47b6-bec8-a449779986f9 button.colab-df-convert');\n",
              "        buttonEl.style.display =\n",
              "          google.colab.kernel.accessAllowed ? 'block' : 'none';\n",
              "\n",
              "        async function convertToInteractive(key) {\n",
              "          const element = document.querySelector('#df-554c4877-315a-47b6-bec8-a449779986f9');\n",
              "          const dataTable =\n",
              "            await google.colab.kernel.invokeFunction('convertToInteractive',\n",
              "                                                     [key], {});\n",
              "          if (!dataTable) return;\n",
              "\n",
              "          const docLinkHtml = 'Like what you see? Visit the ' +\n",
              "            '<a target=\"_blank\" href=https://colab.research.google.com/notebooks/data_table.ipynb>data table notebook</a>'\n",
              "            + ' to learn more about interactive tables.';\n",
              "          element.innerHTML = '';\n",
              "          dataTable['output_type'] = 'display_data';\n",
              "          await google.colab.output.renderOutput(dataTable, element);\n",
              "          const docLink = document.createElement('div');\n",
              "          docLink.innerHTML = docLinkHtml;\n",
              "          element.appendChild(docLink);\n",
              "        }\n",
              "      </script>\n",
              "    </div>\n",
              "  </div>\n",
              "  "
            ]
          },
          "metadata": {},
          "execution_count": 17
        }
      ],
      "source": [
        "df.isna()"
      ]
    },
    {
      "cell_type": "markdown",
      "source": [
        "isna() Return a boolean same-sized object indicating if the values are Null or not"
      ],
      "metadata": {
        "id": "GLbBAf2_MjVc"
      }
    },
    {
      "cell_type": "code",
      "execution_count": null,
      "metadata": {
        "colab": {
          "base_uri": "https://localhost:8080/"
        },
        "id": "dDnskXjTFV7R",
        "outputId": "6aa1a95a-6c37-4e95-e0d1-94f5eaf0d666"
      },
      "outputs": [
        {
          "output_type": "execute_result",
          "data": {
            "text/plain": [
              "WhiteRatingDiff    0.000746\n",
              "BlackRatingDiff    0.000746\n",
              "Event              0.000000\n",
              "White              0.000000\n",
              "Black              0.000000\n",
              "Result             0.000000\n",
              "UTCDate            0.000000\n",
              "UTCTime            0.000000\n",
              "WhiteElo           0.000000\n",
              "BlackElo           0.000000\n",
              "ECO                0.000000\n",
              "Opening            0.000000\n",
              "TimeControl        0.000000\n",
              "Termination        0.000000\n",
              "AN                 0.000000\n",
              "dtype: float64"
            ]
          },
          "metadata": {},
          "execution_count": 18
        }
      ],
      "source": [
        "missing_percentages= df.isna().sum().sort_values(ascending=False)/ len(df)\n",
        "missing_percentages"
      ]
    },
    {
      "cell_type": "markdown",
      "source": [
        "This is done too see the percentages of missing values"
      ],
      "metadata": {
        "id": "eZbdrLnsezRX"
      }
    },
    {
      "cell_type": "code",
      "execution_count": null,
      "metadata": {
        "colab": {
          "base_uri": "https://localhost:8080/"
        },
        "id": "3A3DnxLHM8_V",
        "outputId": "1b77699b-7393-49bf-fc44-71814e9e8af3"
      },
      "outputs": [
        {
          "output_type": "execute_result",
          "data": {
            "text/plain": [
              "WhiteRatingDiff    0.000746\n",
              "BlackRatingDiff    0.000746\n",
              "dtype: float64"
            ]
          },
          "metadata": {},
          "execution_count": 19
        }
      ],
      "source": [
        "missing_percentages [missing_percentages != 0]"
      ]
    },
    {
      "cell_type": "markdown",
      "source": [
        "!= means not equal to, hence this missing_percentages [missing_percentages !=0] all the values in 'missing_percentages' which are not equal to 0"
      ],
      "metadata": {
        "id": "un7U9pFwM47M"
      }
    },
    {
      "cell_type": "code",
      "execution_count": null,
      "metadata": {
        "colab": {
          "base_uri": "https://localhost:8080/"
        },
        "id": "1-E_ctzlMZPn",
        "outputId": "09dc7c99-2d21-4550-d256-88700a8bfc6e"
      },
      "outputs": [
        {
          "output_type": "execute_result",
          "data": {
            "text/plain": [
              "pandas.core.series.Series"
            ]
          },
          "metadata": {},
          "execution_count": 20
        }
      ],
      "source": [
        "type(missing_percentages [missing_percentages != 0])"
      ]
    },
    {
      "cell_type": "markdown",
      "source": [
        "type() is a function in pandas which gives us the datatype of an object."
      ],
      "metadata": {
        "id": "y_tjV9jQgGIc"
      }
    },
    {
      "cell_type": "code",
      "execution_count": null,
      "metadata": {
        "colab": {
          "base_uri": "https://localhost:8080/",
          "height": 353
        },
        "id": "CAgu9WTBFIbf",
        "outputId": "2796d9bc-4d32-467d-97ca-0d9813b8e5a7"
      },
      "outputs": [
        {
          "output_type": "execute_result",
          "data": {
            "text/plain": [
              "<matplotlib.axes._subplots.AxesSubplot at 0x7f17ad8585b0>"
            ]
          },
          "metadata": {},
          "execution_count": 21
        },
        {
          "output_type": "display_data",
          "data": {
            "text/plain": [
              "<Figure size 432x288 with 1 Axes>"
            ],
            "image/png": "[encoded data removed]"
          },
          "metadata": {
            "needs_background": "light"
          }
        }
      ],
      "source": [
        "missing_percentages [missing_percentages != 0].plot(kind = 'bar')"
      ]
    },
    {
      "cell_type": "markdown",
      "metadata": {
        "id": "vm0zWlG1kv3M"
      },
      "source": [
        "Since there are very few missing values, we'll just go ahead without removing the null sets from the dataset."
      ]
    },
    {
      "cell_type": "markdown",
      "metadata": {
        "id": "6dm14-FQ3ZCq"
      },
      "source": [
        "##Exploratory Analysis and Visualization\n",
        "\n",
        "\n"
      ]
    },
    {
      "cell_type": "code",
      "execution_count": null,
      "metadata": {
        "colab": {
          "base_uri": "https://localhost:8080/"
        },
        "id": "mL9WSidNDi_Q",
        "outputId": "fd56ae0f-5a0c-414d-e406-452306c2b311"
      },
      "outputs": [
        {
          "output_type": "execute_result",
          "data": {
            "text/plain": [
              "Index(['Event', 'White', 'Black', 'Result', 'UTCDate', 'UTCTime', 'WhiteElo',\n",
              "       'BlackElo', 'WhiteRatingDiff', 'BlackRatingDiff', 'ECO', 'Opening',\n",
              "       'TimeControl', 'Termination', 'AN'],\n",
              "      dtype='object')"
            ]
          },
          "metadata": {},
          "execution_count": 22
        }
      ],
      "source": [
        "df.columns"
      ]
    },
    {
      "cell_type": "markdown",
      "source": [
        "file_name() gives the name of the values of the header row"
      ],
      "metadata": {
        "id": "rNa_kd01jgvz"
      }
    },
    {
      "cell_type": "markdown",
      "source": [
        "###Event"
      ],
      "metadata": {
        "id": "MVHz5A5w7dlr"
      }
    },
    {
      "cell_type": "code",
      "source": [
        "a= df.Event.unique()\n",
        "a"
      ],
      "metadata": {
        "colab": {
          "base_uri": "https://localhost:8080/"
        },
        "id": "kJ5KCTO14g1J",
        "outputId": "ed9eb161-45b6-40df-9861-88fbe69c3a98"
      },
      "execution_count": null,
      "outputs": [
        {
          "output_type": "execute_result",
          "data": {
            "text/plain": [
              "array([' Classical ', ' Blitz ', ' Blitz tournament ', ' Correspondence ',\n",
              "       ' Classical tournament ', ' Bullet tournament ', ' Bullet ',\n",
              "       'Blitz tournament ', 'Bullet ', 'Classical ', 'Blitz ',\n",
              "       'Bullet tournament ', 'Classical tournament ', 'Correspondence '],\n",
              "      dtype=object)"
            ]
          },
          "metadata": {},
          "execution_count": 23
        }
      ]
    },
    {
      "cell_type": "code",
      "source": [
        "df['Event'].value_counts(ascending=True)"
      ],
      "metadata": {
        "colab": {
          "base_uri": "https://localhost:8080/"
        },
        "id": "xqhQ-vMF6HYA",
        "outputId": "4919566d-2786-4c6f-b3a7-ba09e090833c"
      },
      "execution_count": null,
      "outputs": [
        {
          "output_type": "execute_result",
          "data": {
            "text/plain": [
              "Correspondence                  1\n",
              "Classical tournament            2\n",
              "Bullet tournament               3\n",
              "Blitz tournament                4\n",
              "Bullet                          8\n",
              "Classical                      13\n",
              "Blitz                          20\n",
              " Correspondence             22939\n",
              " Classical tournament      165633\n",
              " Blitz tournament          472258\n",
              " Bullet tournament         546774\n",
              " Bullet                   1198177\n",
              " Classical                1510798\n",
              " Blitz                    2339554\n",
              "Name: Event, dtype: int64"
            ]
          },
          "metadata": {},
          "execution_count": 24
        }
      ]
    },
    {
      "cell_type": "code",
      "source": [],
      "metadata": {
        "id": "mBDB9nzJ4koL"
      },
      "execution_count": null,
      "outputs": []
    },
    {
      "cell_type": "markdown",
      "metadata": {
        "id": "E_w0MV2H105P"
      },
      "source": [
        "###OPENINGS\n",
        "\n",
        "analysizing various trends in openings of chess games"
      ]
    },
    {
      "cell_type": "code",
      "execution_count": null,
      "metadata": {
        "colab": {
          "base_uri": "https://localhost:8080/"
        },
        "id": "nCOGGYu2JXj-",
        "outputId": "456141f0-e0fc-435e-e193-cbe6fc6bc8e8"
      },
      "outputs": [
        {
          "output_type": "execute_result",
          "data": {
            "text/plain": [
              "0                                           Slav Defense\n",
              "1                              King's Pawn Opening: 2.b3\n",
              "2          Scandinavian Defense: Mieses-Kotroc Variation\n",
              "3                                   Van't Kruijs Opening\n",
              "4            Sicilian Defense: Najdorf, Lipnitsky Attack\n",
              "                               ...                      \n",
              "6256179                                 Sicilian Defense\n",
              "6256180                            King's Knight Opening\n",
              "6256181             Sicilian Defense: Smith-Morra Gambit\n",
              "6256182                      Reti Opening: Reti Accepted\n",
              "6256183                Rat Defense: Small Center Defense\n",
              "Name: Opening, Length: 6256184, dtype: object"
            ]
          },
          "metadata": {},
          "execution_count": 25
        }
      ],
      "source": [
        "df. Opening"
      ]
    },
    {
      "cell_type": "code",
      "execution_count": null,
      "metadata": {
        "colab": {
          "base_uri": "https://localhost:8080/"
        },
        "id": "L31MxPQyCxlW",
        "outputId": "534f7244-bae7-4eb4-875d-53d729f0e8fe"
      },
      "outputs": [
        {
          "output_type": "execute_result",
          "data": {
            "text/plain": [
              "array(['Slav Defense', \"King's Pawn Opening: 2.b3\",\n",
              "       'Scandinavian Defense: Mieses-Kotroc Variation', ...,\n",
              "       'Kadas Opening: Kadas Gambit #2',\n",
              "       \"King's Gambit Declined: Falkbeer, Tarrasch Variation\",\n",
              "       'English Opening: Closed, Taimanov Variation'], dtype=object)"
            ]
          },
          "metadata": {},
          "execution_count": 26
        }
      ],
      "source": [
        "df.Opening.unique()"
      ]
    },
    {
      "cell_type": "markdown",
      "source": [
        "unique() gives us some unique values in the Opening column"
      ],
      "metadata": {
        "id": "5EQdxsjll6BD"
      }
    },
    {
      "cell_type": "code",
      "execution_count": null,
      "metadata": {
        "colab": {
          "base_uri": "https://localhost:8080/"
        },
        "id": "QrmcXy9hE8Ux",
        "outputId": "69b1d308-0714-44c7-ca7f-b4fa7079528c"
      },
      "outputs": [
        {
          "output_type": "execute_result",
          "data": {
            "text/plain": [
              "2942"
            ]
          },
          "metadata": {},
          "execution_count": 27
        }
      ],
      "source": [
        "openings = df.Opening.unique()\n",
        "len(openings)"
      ]
    },
    {
      "cell_type": "markdown",
      "source": [
        "unique() gives the unique values of series object"
      ],
      "metadata": {
        "id": "ZlGXJVwGmvm_"
      }
    },
    {
      "cell_type": "code",
      "execution_count": null,
      "metadata": {
        "colab": {
          "base_uri": "https://localhost:8080/"
        },
        "id": "YiIy8hkcJifo",
        "outputId": "91c2346f-c377-45d4-bcad-4d5c33d54cf8"
      },
      "outputs": [
        {
          "output_type": "execute_result",
          "data": {
            "text/plain": [
              "array(['Slav Defense', \"King's Pawn Opening: 2.b3\",\n",
              "       'Scandinavian Defense: Mieses-Kotroc Variation',\n",
              "       \"Van't Kruijs Opening\",\n",
              "       'Sicilian Defense: Najdorf, Lipnitsky Attack', 'Vienna Game',\n",
              "       'Caro-Kann Defense: Two Knights Attack',\n",
              "       \"Queen's Pawn Game: London System\", 'Indian Game',\n",
              "       'Italian Game: Two Knights Defense, Traxler Counterattack, Knight Sacrifice Line',\n",
              "       'Philidor Defense #3', \"King's Gambit Accepted, Modern Defense\",\n",
              "       'Polish Opening', 'Scandinavian Defense: Main Line',\n",
              "       'Ruy Lopez: Steinitz Defense',\n",
              "       'Sicilian Defense: Franco-Sicilian Variation',\n",
              "       'Caro-Kann Defense: Advance Variation, Bayonet Attack',\n",
              "       'Scandinavian Defense',\n",
              "       'Sicilian Defense: Kan Variation, Maroczy Bind, Reti Variation',\n",
              "       'Ruy Lopez: Morphy Defense, Arkhangelsk Variation'], dtype=object)"
            ]
          },
          "metadata": {},
          "execution_count": 28
        }
      ],
      "source": [
        "openings[:20]"
      ]
    },
    {
      "cell_type": "code",
      "execution_count": null,
      "metadata": {
        "colab": {
          "base_uri": "https://localhost:8080/"
        },
        "id": "nuDm5ygQJx6Y",
        "outputId": "e9e0ea1b-1135-4aa0-be2c-a9c391f36f5a"
      },
      "outputs": [
        {
          "output_type": "execute_result",
          "data": {
            "text/plain": [
              "Van't Kruijs Opening                                        133112\n",
              "Scandinavian Defense: Mieses-Kotroc Variation               112227\n",
              "Modern Defense                                              108120\n",
              "Horwitz Defense                                              95450\n",
              "Sicilian Defense                                             85645\n",
              "                                                             ...  \n",
              "Tarrasch Defense: Classical Variation, Spassky Variation         1\n",
              "Italian Game: Evans Gambit, Johner Defense                       1\n",
              "Alekhine Defense: Exchange Variation, Karpov Variation           1\n",
              "Pterodactyl Defense: Central, Bogolubovia                        1\n",
              "English Opening: Closed, Taimanov Variation                      1\n",
              "Name: Opening, Length: 2942, dtype: int64"
            ]
          },
          "metadata": {},
          "execution_count": 29
        }
      ],
      "source": [
        "unique_openings = df.Opening.value_counts(ascending=False)\n",
        "unique_openings"
      ]
    },
    {
      "cell_type": "markdown",
      "source": [
        "value_counts() returns a Series containing the counts of unique values"
      ],
      "metadata": {
        "id": "bT0CdsGWoUfx"
      }
    },
    {
      "cell_type": "code",
      "execution_count": null,
      "metadata": {
        "colab": {
          "base_uri": "https://localhost:8080/"
        },
        "id": "eewk1RD8L0kX",
        "outputId": "f56a0638-d079-4ea8-af67-a9c5f672e921"
      },
      "outputs": [
        {
          "output_type": "execute_result",
          "data": {
            "text/plain": [
              "Van't Kruijs Opening                             133112\n",
              "Scandinavian Defense: Mieses-Kotroc Variation    112227\n",
              "Modern Defense                                   108120\n",
              "Horwitz Defense                                   95450\n",
              "Sicilian Defense                                  85645\n",
              "French Defense: Knight Variation                  83519\n",
              "Caro-Kann Defense                                 82408\n",
              "Scandinavian Defense                              78494\n",
              "Owen Defense                                      73452\n",
              "Sicilian Defense: Bowdler Attack                  72457\n",
              "Philidor Defense #3                               63556\n",
              "Queen's Pawn                                      63110\n",
              "Queen's Pawn Game #2                              61699\n",
              "Hungarian Opening                                 60593\n",
              "Queen's Pawn Game: Chigorin Variation             56442\n",
              "Indian Game                                       54803\n",
              "Philidor Defense #2                               51046\n",
              "Scotch Game                                       49907\n",
              "Sicilian Defense: Old Sicilian                    48966\n",
              "Bishop's Opening                                  48719\n",
              "Name: Opening, dtype: int64"
            ]
          },
          "metadata": {},
          "execution_count": 30
        }
      ],
      "source": [
        "unique_openings[:20]"
      ]
    },
    {
      "cell_type": "code",
      "execution_count": null,
      "metadata": {
        "id": "16gakYOdNiKB",
        "colab": {
          "base_uri": "https://localhost:8080/",
          "height": 283
        },
        "outputId": "e3a02f19-15c6-49a1-e4fe-cd6c30fe951d"
      },
      "outputs": [
        {
          "output_type": "execute_result",
          "data": {
            "text/plain": [
              "<matplotlib.axes._subplots.AxesSubplot at 0x7f17ad6c3850>"
            ]
          },
          "metadata": {},
          "execution_count": 31
        },
        {
          "output_type": "display_data",
          "data": {
            "text/plain": [
              "<Figure size 432x288 with 1 Axes>"
            ],
            "image/png": "[encoded data removed]"
          },
          "metadata": {
            "needs_background": "light"
          }
        }
      ],
      "source": [
        "unique_openings[:20].plot(kind = 'barh', color='m')"
      ]
    },
    {
      "cell_type": "markdown",
      "source": [
        "plot() function is used to create diagrams"
      ],
      "metadata": {
        "id": "6bFcEqBIvVrE"
      }
    },
    {
      "cell_type": "code",
      "execution_count": null,
      "metadata": {
        "id": "Y4luwfufTviZ"
      },
      "outputs": [],
      "source": [
        "import seaborn as sns\n",
        "sns.set_style(\"darkgrid\")"
      ]
    },
    {
      "cell_type": "code",
      "execution_count": null,
      "metadata": {
        "colab": {
          "base_uri": "https://localhost:8080/",
          "height": 354
        },
        "id": "aUQryRmkT-gG",
        "outputId": "096c895b-0cc1-45c4-f9fa-099ae5ec9e59"
      },
      "outputs": [
        {
          "output_type": "stream",
          "name": "stderr",
          "text": [
            "/usr/local/lib/python3.8/dist-packages/seaborn/distributions.py:2619: FutureWarning: `distplot` is a deprecated function and will be removed in a future version. Please adapt your code to use either `displot` (a figure-level function with similar flexibility) or `histplot` (an axes-level function for histograms).\n",
            "  warnings.warn(msg, FutureWarning)\n"
          ]
        },
        {
          "output_type": "execute_result",
          "data": {
            "text/plain": [
              "<matplotlib.axes._subplots.AxesSubplot at 0x7f17b1c9ac10>"
            ]
          },
          "metadata": {},
          "execution_count": 33
        },
        {
          "output_type": "display_data",
          "data": {
            "text/plain": [
              "<Figure size 432x288 with 1 Axes>"
            ],
            "image/png": "[encoded data removed]"
          },
          "metadata": {}
        }
      ],
      "source": [
        "sns.distplot(unique_openings)"
      ]
    },
    {
      "cell_type": "code",
      "execution_count": null,
      "metadata": {
        "colab": {
          "base_uri": "https://localhost:8080/"
        },
        "id": "oXs7jiV2VXjf",
        "outputId": "cfde35e5-562b-4245-b7ca-c452d02850ec"
      },
      "outputs": [
        {
          "output_type": "execute_result",
          "data": {
            "text/plain": [
              "83"
            ]
          },
          "metadata": {},
          "execution_count": 34
        }
      ],
      "source": [
        "x= unique_openings[unique_openings == 1]\n",
        "len(x)"
      ]
    },
    {
      "cell_type": "markdown",
      "source": [
        "Here, we can see that there are a total of 83 unique openings that were played only once throughout the month of july"
      ],
      "metadata": {
        "id": "pjWBU3qVpk3w"
      }
    },
    {
      "cell_type": "code",
      "execution_count": null,
      "metadata": {
        "id": "nsZBs_Wr6axD"
      },
      "outputs": [],
      "source": [
        "famous_openings = unique_openings[unique_openings >= 1000]\n",
        "rare_openings =  unique_openings[unique_openings <= 1000]"
      ]
    },
    {
      "cell_type": "code",
      "execution_count": null,
      "metadata": {
        "colab": {
          "base_uri": "https://localhost:8080/"
        },
        "id": "vKr-KyNu6ait",
        "outputId": "c272a73a-d106-466d-fa00-2f8cc03b56ba"
      },
      "outputs": [
        {
          "output_type": "execute_result",
          "data": {
            "text/plain": [
              "0.26138681169272604"
            ]
          },
          "metadata": {},
          "execution_count": 36
        }
      ],
      "source": [
        "len(famous_openings)/ len(unique_openings)"
      ]
    },
    {
      "cell_type": "code",
      "execution_count": null,
      "metadata": {
        "colab": {
          "base_uri": "https://localhost:8080/",
          "height": 387
        },
        "id": "b76iWJNX-sQF",
        "outputId": "5c4b1fc7-eae3-43f1-e34d-cce473046ef3"
      },
      "outputs": [
        {
          "output_type": "execute_result",
          "data": {
            "text/plain": [
              "<seaborn.axisgrid.FacetGrid at 0x7f17afb64040>"
            ]
          },
          "metadata": {},
          "execution_count": 37
        },
        {
          "output_type": "display_data",
          "data": {
            "text/plain": [
              "<Figure size 360x360 with 1 Axes>"
            ],
            "image/png": "[encoded data removed]"
          },
          "metadata": {}
        }
      ],
      "source": [
        "sns.displot(famous_openings, color = 'g')"
      ]
    },
    {
      "cell_type": "code",
      "execution_count": null,
      "metadata": {
        "colab": {
          "base_uri": "https://localhost:8080/"
        },
        "id": "mg-r3PosVKOY",
        "outputId": "a530eac2-f210-4510-b454-0ee0b4fb70b3"
      },
      "outputs": [
        {
          "output_type": "execute_result",
          "data": {
            "text/plain": [
              "0.738613188307274"
            ]
          },
          "metadata": {},
          "execution_count": 38
        }
      ],
      "source": [
        "len(rare_openings)/ len(unique_openings)"
      ]
    },
    {
      "cell_type": "code",
      "source": [
        "sns.displot(rare_openings, color = 'g')"
      ],
      "metadata": {
        "colab": {
          "base_uri": "https://localhost:8080/",
          "height": 387
        },
        "id": "C1oKZ8OsqI3z",
        "outputId": "7b4e9530-8db1-4b74-85df-d473818284cc"
      },
      "execution_count": null,
      "outputs": [
        {
          "output_type": "execute_result",
          "data": {
            "text/plain": [
              "<seaborn.axisgrid.FacetGrid at 0x7f17afb26520>"
            ]
          },
          "metadata": {},
          "execution_count": 39
        },
        {
          "output_type": "display_data",
          "data": {
            "text/plain": [
              "<Figure size 360x360 with 1 Axes>"
            ],
            "image/png": "[encoded data removed]"
          },
          "metadata": {}
        }
      ]
    },
    {
      "cell_type": "markdown",
      "metadata": {
        "id": "Sbk4v_dV1paX"
      },
      "source": [
        "###Result"
      ]
    },
    {
      "cell_type": "code",
      "execution_count": null,
      "metadata": {
        "colab": {
          "base_uri": "https://localhost:8080/"
        },
        "id": "k-I5ZaA5ITQV",
        "outputId": "1fff49ab-c18a-4bed-c73f-a68de66455e2"
      },
      "outputs": [
        {
          "output_type": "execute_result",
          "data": {
            "text/plain": [
              "0          white\n",
              "1          black\n",
              "2          white\n",
              "3          white\n",
              "4          black\n",
              "           ...  \n",
              "6256179    white\n",
              "6256180    white\n",
              "6256181    black\n",
              "6256182    black\n",
              "6256183    black\n",
              "Name: Result, Length: 6256184, dtype: object"
            ]
          },
          "metadata": {},
          "execution_count": 40
        }
      ],
      "source": [
        "df.Result\n"
      ]
    },
    {
      "cell_type": "code",
      "execution_count": null,
      "metadata": {
        "colab": {
          "base_uri": "https://localhost:8080/"
        },
        "id": "-I_Cpq0P_mRp",
        "outputId": "eb59d2d9-6e88-47e8-944d-4a77717c8286"
      },
      "outputs": [
        {
          "output_type": "execute_result",
          "data": {
            "text/plain": [
              "array(['white', 'black', 'draw', 'undeclared'], dtype=object)"
            ]
          },
          "metadata": {},
          "execution_count": 41
        }
      ],
      "source": [
        "result = df.Result.unique()\n",
        "result"
      ]
    },
    {
      "cell_type": "code",
      "execution_count": null,
      "metadata": {
        "colab": {
          "base_uri": "https://localhost:8080/",
          "height": 270
        },
        "id": "2xHlecn_3AOL",
        "outputId": "439b058d-974d-4e5f-d513-1f96a0f0edd4"
      },
      "outputs": [
        {
          "output_type": "execute_result",
          "data": {
            "text/plain": [
              "              Event    White    Black  UTCDate  UTCTime  WhiteElo  BlackElo  \\\n",
              "Result                                                                        \n",
              "black       2902394  2902394  2902394  2902394  2902394   2902394   2902394   \n",
              "draw         238875   238875   238875   238875   238875    238875    238875   \n",
              "undeclared     1343     1343     1343     1343     1343      1343      1343   \n",
              "white       3113572  3113572  3113572  3113572  3113572   3113572   3113572   \n",
              "\n",
              "            WhiteRatingDiff  BlackRatingDiff      ECO  Opening  TimeControl  \\\n",
              "Result                                                                        \n",
              "black               2901035          2901035  2902394  2902394      2902394   \n",
              "draw                 238763           238763   238875   238875       238875   \n",
              "undeclared                3                3     1343     1343         1343   \n",
              "white               3111715          3111715  3113572  3113572      3113572   \n",
              "\n",
              "            Termination       AN  \n",
              "Result                            \n",
              "black           2902394  2902394  \n",
              "draw             238875   238875  \n",
              "undeclared         1343     1343  \n",
              "white           3113572  3113572  "
            ],
            "text/html": [
              "\n",
              "  <div id=\"df-929e448f-4b02-4df2-8502-7447191b2138\">\n",
              "    <div class=\"colab-df-container\">\n",
              "      <div>\n",
              "<style scoped>\n",
              "    .dataframe tbody tr th:only-of-type {\n",
              "        vertical-align: middle;\n",
              "    }\n",
              "\n",
              "    .dataframe tbody tr th {\n",
              "        vertical-align: top;\n",
              "    }\n",
              "\n",
              "    .dataframe thead th {\n",
              "        text-align: right;\n",
              "    }\n",
              "</style>\n",
              "<table border=\"1\" class=\"dataframe\">\n",
              "  <thead>\n",
              "    <tr style=\"text-align: right;\">\n",
              "      <th></th>\n",
              "      <th>Event</th>\n",
              "      <th>White</th>\n",
              "      <th>Black</th>\n",
              "      <th>UTCDate</th>\n",
              "      <th>UTCTime</th>\n",
              "      <th>WhiteElo</th>\n",
              "      <th>BlackElo</th>\n",
              "      <th>WhiteRatingDiff</th>\n",
              "      <th>BlackRatingDiff</th>\n",
              "      <th>ECO</th>\n",
              "      <th>Opening</th>\n",
              "      <th>TimeControl</th>\n",
              "      <th>Termination</th>\n",
              "      <th>AN</th>\n",
              "    </tr>\n",
              "    <tr>\n",
              "      <th>Result</th>\n",
              "      <th></th>\n",
              "      <th></th>\n",
              "      <th></th>\n",
              "      <th></th>\n",
              "      <th></th>\n",
              "      <th></th>\n",
              "      <th></th>\n",
              "      <th></th>\n",
              "      <th></th>\n",
              "      <th></th>\n",
              "      <th></th>\n",
              "      <th></th>\n",
              "      <th></th>\n",
              "      <th></th>\n",
              "    </tr>\n",
              "  </thead>\n",
              "  <tbody>\n",
              "    <tr>\n",
              "      <th>black</th>\n",
              "      <td>2902394</td>\n",
              "      <td>2902394</td>\n",
              "      <td>2902394</td>\n",
              "      <td>2902394</td>\n",
              "      <td>2902394</td>\n",
              "      <td>2902394</td>\n",
              "      <td>2902394</td>\n",
              "      <td>2901035</td>\n",
              "      <td>2901035</td>\n",
              "      <td>2902394</td>\n",
              "      <td>2902394</td>\n",
              "      <td>2902394</td>\n",
              "      <td>2902394</td>\n",
              "      <td>2902394</td>\n",
              "    </tr>\n",
              "    <tr>\n",
              "      <th>draw</th>\n",
              "      <td>238875</td>\n",
              "      <td>238875</td>\n",
              "      <td>238875</td>\n",
              "      <td>238875</td>\n",
              "      <td>238875</td>\n",
              "      <td>238875</td>\n",
              "      <td>238875</td>\n",
              "      <td>238763</td>\n",
              "      <td>238763</td>\n",
              "      <td>238875</td>\n",
              "      <td>238875</td>\n",
              "      <td>238875</td>\n",
              "      <td>238875</td>\n",
              "      <td>238875</td>\n",
              "    </tr>\n",
              "    <tr>\n",
              "      <th>undeclared</th>\n",
              "      <td>1343</td>\n",
              "      <td>1343</td>\n",
              "      <td>1343</td>\n",
              "      <td>1343</td>\n",
              "      <td>1343</td>\n",
              "      <td>1343</td>\n",
              "      <td>1343</td>\n",
              "      <td>3</td>\n",
              "      <td>3</td>\n",
              "      <td>1343</td>\n",
              "      <td>1343</td>\n",
              "      <td>1343</td>\n",
              "      <td>1343</td>\n",
              "      <td>1343</td>\n",
              "    </tr>\n",
              "    <tr>\n",
              "      <th>white</th>\n",
              "      <td>3113572</td>\n",
              "      <td>3113572</td>\n",
              "      <td>3113572</td>\n",
              "      <td>3113572</td>\n",
              "      <td>3113572</td>\n",
              "      <td>3113572</td>\n",
              "      <td>3113572</td>\n",
              "      <td>3111715</td>\n",
              "      <td>3111715</td>\n",
              "      <td>3113572</td>\n",
              "      <td>3113572</td>\n",
              "      <td>3113572</td>\n",
              "      <td>3113572</td>\n",
              "      <td>3113572</td>\n",
              "    </tr>\n",
              "  </tbody>\n",
              "</table>\n",
              "</div>\n",
              "      <button class=\"colab-df-convert\" onclick=\"convertToInteractive('df-929e448f-4b02-4df2-8502-7447191b2138')\"\n",
              "              title=\"Convert this dataframe to an interactive table.\"\n",
              "              style=\"display:none;\">\n",
              "        \n",
              "  <svg xmlns=\"http://www.w3.org/2000/svg\" height=\"24px\"viewBox=\"0 0 24 24\"\n",
              "       width=\"24px\">\n",
              "    <path d=\"M0 0h24v24H0V0z\" fill=\"none\"/>\n",
              "    <path d=\"M18.56 5.44l.94 2.06.94-2.06 2.06-.94-2.06-.94-.94-2.06-.94 2.06-2.06.94zm-11 1L8.5 8.5l.94-2.06 2.06-.94-2.06-.94L8.5 2.5l-.94 2.06-2.06.94zm10 10l.94 2.06.94-2.06 2.06-.94-2.06-.94-.94-2.06-.94 2.06-2.06.94z\"/><path d=\"M17.41 7.96l-1.37-1.37c-.4-.4-.92-.59-1.43-.59-.52 0-1.04.2-1.43.59L10.3 9.45l-7.72 7.72c-.78.78-.78 2.05 0 2.83L4 21.41c.39.39.9.59 1.41.59.51 0 1.02-.2 1.41-.59l7.78-7.78 2.81-2.81c.8-.78.8-2.07 0-2.86zM5.41 20L4 18.59l7.72-7.72 1.47 1.35L5.41 20z\"/>\n",
              "  </svg>\n",
              "      </button>\n",
              "      \n",
              "  <style>\n",
              "    .colab-df-container {\n",
              "      display:flex;\n",
              "      flex-wrap:wrap;\n",
              "      gap: 12px;\n",
              "    }\n",
              "\n",
              "    .colab-df-convert {\n",
              "      background-color: #E8F0FE;\n",
              "      border: none;\n",
              "      border-radius: 50%;\n",
              "      cursor: pointer;\n",
              "      display: none;\n",
              "      fill: #1967D2;\n",
              "      height: 32px;\n",
              "      padding: 0 0 0 0;\n",
              "      width: 32px;\n",
              "    }\n",
              "\n",
              "    .colab-df-convert:hover {\n",
              "      background-color: #E2EBFA;\n",
              "      box-shadow: 0px 1px 2px rgba(60, 64, 67, 0.3), 0px 1px 3px 1px rgba(60, 64, 67, 0.15);\n",
              "      fill: #174EA6;\n",
              "    }\n",
              "\n",
              "    [theme=dark] .colab-df-convert {\n",
              "      background-color: #3B4455;\n",
              "      fill: #D2E3FC;\n",
              "    }\n",
              "\n",
              "    [theme=dark] .colab-df-convert:hover {\n",
              "      background-color: #434B5C;\n",
              "      box-shadow: 0px 1px 3px 1px rgba(0, 0, 0, 0.15);\n",
              "      filter: drop-shadow(0px 1px 2px rgba(0, 0, 0, 0.3));\n",
              "      fill: #FFFFFF;\n",
              "    }\n",
              "  </style>\n",
              "\n",
              "      <script>\n",
              "        const buttonEl =\n",
              "          document.querySelector('#df-929e448f-4b02-4df2-8502-7447191b2138 button.colab-df-convert');\n",
              "        buttonEl.style.display =\n",
              "          google.colab.kernel.accessAllowed ? 'block' : 'none';\n",
              "\n",
              "        async function convertToInteractive(key) {\n",
              "          const element = document.querySelector('#df-929e448f-4b02-4df2-8502-7447191b2138');\n",
              "          const dataTable =\n",
              "            await google.colab.kernel.invokeFunction('convertToInteractive',\n",
              "                                                     [key], {});\n",
              "          if (!dataTable) return;\n",
              "\n",
              "          const docLinkHtml = 'Like what you see? Visit the ' +\n",
              "            '<a target=\"_blank\" href=https://colab.research.google.com/notebooks/data_table.ipynb>data table notebook</a>'\n",
              "            + ' to learn more about interactive tables.';\n",
              "          element.innerHTML = '';\n",
              "          dataTable['output_type'] = 'display_data';\n",
              "          await google.colab.output.renderOutput(dataTable, element);\n",
              "          const docLink = document.createElement('div');\n",
              "          docLink.innerHTML = docLinkHtml;\n",
              "          element.appendChild(docLink);\n",
              "        }\n",
              "      </script>\n",
              "    </div>\n",
              "  </div>\n",
              "  "
            ]
          },
          "metadata": {},
          "execution_count": 42
        }
      ],
      "source": [
        "df.Result\n",
        "results = df.groupby('Result').count()\n",
        "results"
      ]
    },
    {
      "cell_type": "markdown",
      "source": [
        "1. groupby() function is used to split the data into groups based on some criteria.\n",
        "2. Count() is a Python built-in function that returns the number of times an object appears in a list.\n",
        "\n",
        "Here, the data in grouped on the basis of the result."
      ],
      "metadata": {
        "id": "zfY1FB2UqXh-"
      }
    },
    {
      "cell_type": "markdown",
      "metadata": {
        "id": "c2EFbPpGpVkC"
      },
      "source": [
        "####Termination\n",
        "\n",
        "reasons of termination of the games have been analyzed here."
      ]
    },
    {
      "cell_type": "code",
      "execution_count": null,
      "metadata": {
        "colab": {
          "base_uri": "https://localhost:8080/",
          "height": 319
        },
        "id": "utjHhDU45gW3",
        "outputId": "bc22185e-9d9a-4a7a-dee6-037bd053e309"
      },
      "outputs": [
        {
          "output_type": "execute_result",
          "data": {
            "text/plain": [
              "                    Event    White    Black   Result  UTCDate  UTCTime  \\\n",
              "Termination                                                              \n",
              "Abandoned           14630    14630    14630    14630    14630    14630   \n",
              "Normal            4230089  4230089  4230089  4230089  4230089  4230089   \n",
              "Rules infraction      128      128      128      128      128      128   \n",
              "Time forfeit      2011336  2011336  2011336  2011336  2011336  2011336   \n",
              "Unterminated            1        1        1        1        1        1   \n",
              "\n",
              "                  WhiteElo  BlackElo  WhiteRatingDiff  BlackRatingDiff  \\\n",
              "Termination                                                              \n",
              "Abandoned            14630     14630            13289            13289   \n",
              "Normal             4230089   4230089          4227924          4227924   \n",
              "Rules infraction       128       128              124              124   \n",
              "Time forfeit       2011336   2011336          2010179          2010179   \n",
              "Unterminated             1         1                0                0   \n",
              "\n",
              "                      ECO  Opening  TimeControl       AN  \n",
              "Termination                                               \n",
              "Abandoned           14630    14630        14630    14630  \n",
              "Normal            4230089  4230089      4230089  4230089  \n",
              "Rules infraction      128      128          128      128  \n",
              "Time forfeit      2011336  2011336      2011336  2011336  \n",
              "Unterminated            1        1            1        1  "
            ],
            "text/html": [
              "\n",
              "  <div id=\"df-e37c5473-4e1c-4fcb-8e92-0b9de8a02dfd\">\n",
              "    <div class=\"colab-df-container\">\n",
              "      <div>\n",
              "<style scoped>\n",
              "    .dataframe tbody tr th:only-of-type {\n",
              "        vertical-align: middle;\n",
              "    }\n",
              "\n",
              "    .dataframe tbody tr th {\n",
              "        vertical-align: top;\n",
              "    }\n",
              "\n",
              "    .dataframe thead th {\n",
              "        text-align: right;\n",
              "    }\n",
              "</style>\n",
              "<table border=\"1\" class=\"dataframe\">\n",
              "  <thead>\n",
              "    <tr style=\"text-align: right;\">\n",
              "      <th></th>\n",
              "      <th>Event</th>\n",
              "      <th>White</th>\n",
              "      <th>Black</th>\n",
              "      <th>Result</th>\n",
              "      <th>UTCDate</th>\n",
              "      <th>UTCTime</th>\n",
              "      <th>WhiteElo</th>\n",
              "      <th>BlackElo</th>\n",
              "      <th>WhiteRatingDiff</th>\n",
              "      <th>BlackRatingDiff</th>\n",
              "      <th>ECO</th>\n",
              "      <th>Opening</th>\n",
              "      <th>TimeControl</th>\n",
              "      <th>AN</th>\n",
              "    </tr>\n",
              "    <tr>\n",
              "      <th>Termination</th>\n",
              "      <th></th>\n",
              "      <th></th>\n",
              "      <th></th>\n",
              "      <th></th>\n",
              "      <th></th>\n",
              "      <th></th>\n",
              "      <th></th>\n",
              "      <th></th>\n",
              "      <th></th>\n",
              "      <th></th>\n",
              "      <th></th>\n",
              "      <th></th>\n",
              "      <th></th>\n",
              "      <th></th>\n",
              "    </tr>\n",
              "  </thead>\n",
              "  <tbody>\n",
              "    <tr>\n",
              "      <th>Abandoned</th>\n",
              "      <td>14630</td>\n",
              "      <td>14630</td>\n",
              "      <td>14630</td>\n",
              "      <td>14630</td>\n",
              "      <td>14630</td>\n",
              "      <td>14630</td>\n",
              "      <td>14630</td>\n",
              "      <td>14630</td>\n",
              "      <td>13289</td>\n",
              "      <td>13289</td>\n",
              "      <td>14630</td>\n",
              "      <td>14630</td>\n",
              "      <td>14630</td>\n",
              "      <td>14630</td>\n",
              "    </tr>\n",
              "    <tr>\n",
              "      <th>Normal</th>\n",
              "      <td>4230089</td>\n",
              "      <td>4230089</td>\n",
              "      <td>4230089</td>\n",
              "      <td>4230089</td>\n",
              "      <td>4230089</td>\n",
              "      <td>4230089</td>\n",
              "      <td>4230089</td>\n",
              "      <td>4230089</td>\n",
              "      <td>4227924</td>\n",
              "      <td>4227924</td>\n",
              "      <td>4230089</td>\n",
              "      <td>4230089</td>\n",
              "      <td>4230089</td>\n",
              "      <td>4230089</td>\n",
              "    </tr>\n",
              "    <tr>\n",
              "      <th>Rules infraction</th>\n",
              "      <td>128</td>\n",
              "      <td>128</td>\n",
              "      <td>128</td>\n",
              "      <td>128</td>\n",
              "      <td>128</td>\n",
              "      <td>128</td>\n",
              "      <td>128</td>\n",
              "      <td>128</td>\n",
              "      <td>124</td>\n",
              "      <td>124</td>\n",
              "      <td>128</td>\n",
              "      <td>128</td>\n",
              "      <td>128</td>\n",
              "      <td>128</td>\n",
              "    </tr>\n",
              "    <tr>\n",
              "      <th>Time forfeit</th>\n",
              "      <td>2011336</td>\n",
              "      <td>2011336</td>\n",
              "      <td>2011336</td>\n",
              "      <td>2011336</td>\n",
              "      <td>2011336</td>\n",
              "      <td>2011336</td>\n",
              "      <td>2011336</td>\n",
              "      <td>2011336</td>\n",
              "      <td>2010179</td>\n",
              "      <td>2010179</td>\n",
              "      <td>2011336</td>\n",
              "      <td>2011336</td>\n",
              "      <td>2011336</td>\n",
              "      <td>2011336</td>\n",
              "    </tr>\n",
              "    <tr>\n",
              "      <th>Unterminated</th>\n",
              "      <td>1</td>\n",
              "      <td>1</td>\n",
              "      <td>1</td>\n",
              "      <td>1</td>\n",
              "      <td>1</td>\n",
              "      <td>1</td>\n",
              "      <td>1</td>\n",
              "      <td>1</td>\n",
              "      <td>0</td>\n",
              "      <td>0</td>\n",
              "      <td>1</td>\n",
              "      <td>1</td>\n",
              "      <td>1</td>\n",
              "      <td>1</td>\n",
              "    </tr>\n",
              "  </tbody>\n",
              "</table>\n",
              "</div>\n",
              "      <button class=\"colab-df-convert\" onclick=\"convertToInteractive('df-e37c5473-4e1c-4fcb-8e92-0b9de8a02dfd')\"\n",
              "              title=\"Convert this dataframe to an interactive table.\"\n",
              "              style=\"display:none;\">\n",
              "        \n",
              "  <svg xmlns=\"http://www.w3.org/2000/svg\" height=\"24px\"viewBox=\"0 0 24 24\"\n",
              "       width=\"24px\">\n",
              "    <path d=\"M0 0h24v24H0V0z\" fill=\"none\"/>\n",
              "    <path d=\"M18.56 5.44l.94 2.06.94-2.06 2.06-.94-2.06-.94-.94-2.06-.94 2.06-2.06.94zm-11 1L8.5 8.5l.94-2.06 2.06-.94-2.06-.94L8.5 2.5l-.94 2.06-2.06.94zm10 10l.94 2.06.94-2.06 2.06-.94-2.06-.94-.94-2.06-.94 2.06-2.06.94z\"/><path d=\"M17.41 7.96l-1.37-1.37c-.4-.4-.92-.59-1.43-.59-.52 0-1.04.2-1.43.59L10.3 9.45l-7.72 7.72c-.78.78-.78 2.05 0 2.83L4 21.41c.39.39.9.59 1.41.59.51 0 1.02-.2 1.41-.59l7.78-7.78 2.81-2.81c.8-.78.8-2.07 0-2.86zM5.41 20L4 18.59l7.72-7.72 1.47 1.35L5.41 20z\"/>\n",
              "  </svg>\n",
              "      </button>\n",
              "      \n",
              "  <style>\n",
              "    .colab-df-container {\n",
              "      display:flex;\n",
              "      flex-wrap:wrap;\n",
              "      gap: 12px;\n",
              "    }\n",
              "\n",
              "    .colab-df-convert {\n",
              "      background-color: #E8F0FE;\n",
              "      border: none;\n",
              "      border-radius: 50%;\n",
              "      cursor: pointer;\n",
              "      display: none;\n",
              "      fill: #1967D2;\n",
              "      height: 32px;\n",
              "      padding: 0 0 0 0;\n",
              "      width: 32px;\n",
              "    }\n",
              "\n",
              "    .colab-df-convert:hover {\n",
              "      background-color: #E2EBFA;\n",
              "      box-shadow: 0px 1px 2px rgba(60, 64, 67, 0.3), 0px 1px 3px 1px rgba(60, 64, 67, 0.15);\n",
              "      fill: #174EA6;\n",
              "    }\n",
              "\n",
              "    [theme=dark] .colab-df-convert {\n",
              "      background-color: #3B4455;\n",
              "      fill: #D2E3FC;\n",
              "    }\n",
              "\n",
              "    [theme=dark] .colab-df-convert:hover {\n",
              "      background-color: #434B5C;\n",
              "      box-shadow: 0px 1px 3px 1px rgba(0, 0, 0, 0.15);\n",
              "      filter: drop-shadow(0px 1px 2px rgba(0, 0, 0, 0.3));\n",
              "      fill: #FFFFFF;\n",
              "    }\n",
              "  </style>\n",
              "\n",
              "      <script>\n",
              "        const buttonEl =\n",
              "          document.querySelector('#df-e37c5473-4e1c-4fcb-8e92-0b9de8a02dfd button.colab-df-convert');\n",
              "        buttonEl.style.display =\n",
              "          google.colab.kernel.accessAllowed ? 'block' : 'none';\n",
              "\n",
              "        async function convertToInteractive(key) {\n",
              "          const element = document.querySelector('#df-e37c5473-4e1c-4fcb-8e92-0b9de8a02dfd');\n",
              "          const dataTable =\n",
              "            await google.colab.kernel.invokeFunction('convertToInteractive',\n",
              "                                                     [key], {});\n",
              "          if (!dataTable) return;\n",
              "\n",
              "          const docLinkHtml = 'Like what you see? Visit the ' +\n",
              "            '<a target=\"_blank\" href=https://colab.research.google.com/notebooks/data_table.ipynb>data table notebook</a>'\n",
              "            + ' to learn more about interactive tables.';\n",
              "          element.innerHTML = '';\n",
              "          dataTable['output_type'] = 'display_data';\n",
              "          await google.colab.output.renderOutput(dataTable, element);\n",
              "          const docLink = document.createElement('div');\n",
              "          docLink.innerHTML = docLinkHtml;\n",
              "          element.appendChild(docLink);\n",
              "        }\n",
              "      </script>\n",
              "    </div>\n",
              "  </div>\n",
              "  "
            ]
          },
          "metadata": {},
          "execution_count": 43
        }
      ],
      "source": [
        "df.Termination\n",
        "termination= df.groupby('Termination').count()\n",
        "termination"
      ]
    },
    {
      "cell_type": "markdown",
      "metadata": {
        "id": "o97pWQW9JfMa"
      },
      "source": []
    },
    {
      "cell_type": "code",
      "execution_count": null,
      "metadata": {
        "colab": {
          "base_uri": "https://localhost:8080/",
          "height": 297
        },
        "id": "mGmx1r_Ln2dW",
        "outputId": "9c188611-757d-4eec-b007-812fc08c48dd"
      },
      "outputs": [
        {
          "output_type": "execute_result",
          "data": {
            "text/plain": [
              "<matplotlib.axes._subplots.AxesSubplot at 0x7f17af115b80>"
            ]
          },
          "metadata": {},
          "execution_count": 44
        },
        {
          "output_type": "display_data",
          "data": {
            "text/plain": [
              "<Figure size 432x288 with 1 Axes>"
            ],
            "image/png": "[encoded data removed]"
          },
          "metadata": {}
        }
      ],
      "source": [
        "sns.set_style('darkgrid')\n",
        "w=sns.countplot(x='Termination',data=df, )\n",
        "w.set_yscale(\"log\")\n",
        "plt.style.use('dark_background')\n",
        "sns.countplot(x='Termination',data=df, palette='mako')"
      ]
    },
    {
      "cell_type": "markdown",
      "source": [
        "Countplot shows the counts of observations in each categorical bin using bars. A count plot can be thought of as a histogram across a categorical, instead of quantitative, variable."
      ],
      "metadata": {
        "id": "EB6_ZLu9r9Fk"
      }
    },
    {
      "cell_type": "markdown",
      "metadata": {
        "id": "1BCe5mjq3iZ7"
      },
      "source": [
        "##ask and answer questions\n",
        "\n"
      ]
    },
    {
      "cell_type": "markdown",
      "metadata": {
        "id": "CmqiYT0qhD9g"
      },
      "source": [
        "#### who are the most frequent players?"
      ]
    },
    {
      "cell_type": "code",
      "execution_count": null,
      "metadata": {
        "colab": {
          "base_uri": "https://localhost:8080/",
          "height": 299
        },
        "id": "9aY_RjCN3l4Y",
        "outputId": "e708efb6-8b9d-44b4-f6e6-8175cd17b67c"
      },
      "outputs": [
        {
          "output_type": "execute_result",
          "data": {
            "text/plain": [
              "<matplotlib.axes._subplots.AxesSubplot at 0x7f17af2df2e0>"
            ]
          },
          "metadata": {},
          "execution_count": 45
        },
        {
          "output_type": "display_data",
          "data": {
            "text/plain": [
              "<Figure size 432x288 with 1 Axes>"
            ],
            "image/png": "[encoded data removed]"
          },
          "metadata": {}
        }
      ],
      "source": [
        "pd.concat([df['White'], df['Black']]).value_counts(ascending= True).tail(20).plot(kind = 'barh', title='Top 20 frequent chess players')\n"
      ]
    },
    {
      "cell_type": "markdown",
      "metadata": {
        "id": "5xLh6WGHP_k0"
      },
      "source": [
        "1. concat() function is used to concatenate pandas objects along a particular axis with optional set logic along the other axes\n",
        "2.  The tail() method returns a specified number of last rows"
      ]
    },
    {
      "cell_type": "markdown",
      "metadata": {
        "id": "Wii6Jp5KjH32"
      },
      "source": [
        "####Which color wins more?"
      ]
    },
    {
      "cell_type": "code",
      "execution_count": null,
      "metadata": {
        "colab": {
          "base_uri": "https://localhost:8080/",
          "height": 308
        },
        "id": "MmTWh6jujL1t",
        "outputId": "9542c550-8f03-4723-ca27-34fd52991f99"
      },
      "outputs": [
        {
          "output_type": "execute_result",
          "data": {
            "text/plain": [
              "<matplotlib.axes._subplots.AxesSubplot at 0x7f17aeed33a0>"
            ]
          },
          "metadata": {},
          "execution_count": 46
        },
        {
          "output_type": "display_data",
          "data": {
            "text/plain": [
              "<Figure size 432x288 with 1 Axes>"
            ],
            "image/png": "[encoded data removed]"
          },
          "metadata": {}
        }
      ],
      "source": [
        "sns.countplot(x='Result',data=df,palette='RdBu_r')"
      ]
    },
    {
      "cell_type": "markdown",
      "metadata": {
        "id": "aCOuQSU9P10R"
      },
      "source": [
        "we can see that overall white wins more"
      ]
    },
    {
      "cell_type": "markdown",
      "metadata": {
        "id": "MOkbIHSCR9pX"
      },
      "source": [
        "### What are the number of white wins, black wins and draws per event?"
      ]
    },
    {
      "cell_type": "code",
      "execution_count": null,
      "metadata": {
        "colab": {
          "base_uri": "https://localhost:8080/",
          "height": 477
        },
        "id": "pDxKYkKlR_i5",
        "outputId": "f28c3482-402c-4f89-c4d7-b5775d39f37d"
      },
      "outputs": [
        {
          "output_type": "execute_result",
          "data": {
            "text/plain": [
              "<matplotlib.legend.Legend at 0x7f17aeee41c0>"
            ]
          },
          "metadata": {},
          "execution_count": 47
        },
        {
          "output_type": "display_data",
          "data": {
            "text/plain": [
              "<Figure size 432x288 with 1 Axes>"
            ],
            "image/png": "[encoded data removed]"
          },
          "metadata": {}
        }
      ],
      "source": [
        "g=sns.countplot(x='Result',hue='Event',data=df,palette='rainbow')\n",
        "g.set_yscale(\"log\")\n",
        "sns.countplot(x='Result',hue='Event',data=df,palette='rainbow')\n",
        "plt.legend(bbox_to_anchor=(1.0, 1.0))"
      ]
    },
    {
      "cell_type": "markdown",
      "source": [
        "bbox_to_anchor creates a bounding box with lower corner."
      ],
      "metadata": {
        "id": "Dwlvqs82tQAQ"
      }
    },
    {
      "cell_type": "markdown",
      "metadata": {
        "id": "mhUQyrkyS55f"
      },
      "source": [
        "### Who abandons more games?"
      ]
    },
    {
      "cell_type": "code",
      "execution_count": null,
      "metadata": {
        "colab": {
          "base_uri": "https://localhost:8080/",
          "height": 297
        },
        "id": "zmOvk9MIX5Fh",
        "outputId": "a8a4183b-310d-404d-9b9f-846fcc2c2eba"
      },
      "outputs": [
        {
          "output_type": "execute_result",
          "data": {
            "text/plain": [
              "<matplotlib.legend.Legend at 0x7f17aeba3370>"
            ]
          },
          "metadata": {},
          "execution_count": 48
        },
        {
          "output_type": "display_data",
          "data": {
            "text/plain": [
              "<Figure size 432x288 with 1 Axes>"
            ],
            "image/png": "[encoded data removed]"
          },
          "metadata": {}
        }
      ],
      "source": [
        "g=sns.countplot(x='Termination',hue='Result',data=df,palette='pastel')\n",
        "g.set_yscale(\"log\")\n",
        "sns.countplot(x='Termination',hue='Result',data=df,palette='pastel')\n",
        "plt.legend(bbox_to_anchor=(1.0,1.0))"
      ]
    },
    {
      "cell_type": "markdown",
      "metadata": {
        "id": "lt92X87Qa7k7"
      },
      "source": [
        "we can see that black abandons way more games than white does as white has way more wins than black does in the abandoned section."
      ]
    },
    {
      "cell_type": "markdown",
      "metadata": {
        "id": "k2jjvRlf3nMx"
      },
      "source": [
        "## INSIGHTS\n",
        "\n",
        "Some of the insights drawn were:-\n",
        "1. The player who played most games played more than 5500 games in a span of one month.\n",
        "2. There where 83 openings that were played only once\n",
        "3. Blitz is the most famous chess event with the most number of players\n",
        "4. Black abandons more games than white does, this is probably becasue people like to attack in chess which is difficult when you start with a black piece.\n",
        "5. In correspondence matches, white wins and black wins go hand in hand.\n",
        "6. White wins more matches overall, BUT, In blitz tournaments, black wins are more than white wins."
      ]
    }
  ],
  "metadata": {
    "colab": {
      "collapsed_sections": [
        "69icgc-O1Lwh"
      ],
      "provenance": [],
      "toc_visible": true,
      "include_colab_link": true
    },
    "gpuClass": "standard",
    "kernelspec": {
      "display_name": "Python 3",
      "language": "python",
      "name": "python3"
    },
    "language_info": {
      "codemirror_mode": {
        "name": "ipython",
        "version": 3
      },
      "file_extension": ".py",
      "mimetype": "text/x-python",
      "name": "python",
      "nbconvert_exporter": "python",
      "pygments_lexer": "ipython3",
      "version": "3.7.6"
    }
  },
  "nbformat": 4,
  "nbformat_minor": 0
}